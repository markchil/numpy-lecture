{
 "cells": [
  {
   "cell_type": "markdown",
   "id": "cf505a6c",
   "metadata": {
    "slideshow": {
     "slide_type": "slide"
    }
   },
   "source": [
    "# Scientific Computing in Python: A NumPy Crash-Course Cluedump\n",
    "\n",
    "Mark Chilenski (markchil)\n",
    "\n",
    "January 25, 2022\n",
    "\n",
    "You can download this notebook and supporting materials at https://github.com/markchil/numpy-lecture"
   ]
  },
  {
   "cell_type": "markdown",
   "id": "9c8c6328",
   "metadata": {
    "slideshow": {
     "slide_type": "slide"
    }
   },
   "source": [
    "Copyright 2021 Mark Chilenski\n",
    "\n",
    "This program is free software: you can redistribute it and/or modify\n",
    "it under the terms of the GNU General Public License as published by\n",
    "the Free Software Foundation, either version 3 of the License, or\n",
    "(at your option) any later version.\n",
    "\n",
    "This program is distributed in the hope that it will be useful,\n",
    "but WITHOUT ANY WARRANTY; without even the implied warranty of\n",
    "MERCHANTABILITY or FITNESS FOR A PARTICULAR PURPOSE.  See the\n",
    "GNU General Public License for more details.\n",
    "\n",
    "You should have received a copy of the GNU General Public License\n",
    "along with this program.  If not, see <https://www.gnu.org/licenses/>."
   ]
  },
  {
   "cell_type": "markdown",
   "id": "85dea0b4",
   "metadata": {
    "slideshow": {
     "slide_type": "slide"
    }
   },
   "source": [
    "## Introduction\n",
    "NumPy is the main Python package for performing numerical computations\n",
    "\n",
    "* NumPy provides efficient data structures and functions for manipulating arrays of numbers\n",
    "* You can lots of computations with NumPy itself, or can hand off NumPy arrays for use in other specialized packages such as SciPy"
   ]
  },
  {
   "cell_type": "markdown",
   "id": "f677bd0a",
   "metadata": {
    "slideshow": {
     "slide_type": "-"
    }
   },
   "source": [
    "NumPy is usually imported as `np`:"
   ]
  },
  {
   "cell_type": "code",
   "execution_count": 1,
   "id": "1639a4ea",
   "metadata": {},
   "outputs": [],
   "source": [
    "import numpy as np"
   ]
  },
  {
   "cell_type": "markdown",
   "id": "0112c523",
   "metadata": {
    "slideshow": {
     "slide_type": "slide"
    }
   },
   "source": [
    "## Example: Evaluating a 2d Quadratic\n",
    "Let's evaluate $z = ax^2 + by^2 + cxy$ over a 2d grid covering $-1\\leq x, y\\leq 1$. First, we define the coefficients as regular Python floats:"
   ]
  },
  {
   "cell_type": "code",
   "execution_count": 2,
   "id": "7b065ac0",
   "metadata": {},
   "outputs": [],
   "source": [
    "a = 5.0\n",
    "b = -2.0\n",
    "c = 3.0"
   ]
  },
  {
   "cell_type": "markdown",
   "id": "becd4cf5",
   "metadata": {
    "slideshow": {
     "slide_type": "slide"
    }
   },
   "source": [
    "### Pure Python Solution:"
   ]
  },
  {
   "cell_type": "markdown",
   "id": "15394da3",
   "metadata": {},
   "source": [
    "A pure Python solution requires some ugly syntax to set up the grids for $x$ and $y$:"
   ]
  },
  {
   "cell_type": "code",
   "execution_count": 3,
   "id": "e3961090",
   "metadata": {},
   "outputs": [],
   "source": [
    "x = [2.0 * v / (200 - 1) - 1.0 for v in range(200)]\n",
    "y = [2.0 * v / (201 - 1) - 1.0 for v in range(201)]"
   ]
  },
  {
   "cell_type": "markdown",
   "id": "9b83d6a4",
   "metadata": {},
   "source": [
    "Evaluating $z$ requires nested for-loops:"
   ]
  },
  {
   "cell_type": "code",
   "execution_count": 4,
   "id": "ee2aef4d",
   "metadata": {},
   "outputs": [],
   "source": [
    "def quadratic_pure_python(x, y):\n",
    "    z = []\n",
    "    for x_val in x:\n",
    "        row = []\n",
    "        for y_val in y:\n",
    "            row.append(a * x_val ** 2 + b * y_val ** 2 + c * x_val * y_val)\n",
    "        z.append(row)\n",
    "    return z"
   ]
  },
  {
   "cell_type": "code",
   "execution_count": 5,
   "id": "e094bbb2",
   "metadata": {},
   "outputs": [
    {
     "name": "stdout",
     "output_type": "stream",
     "text": [
      "18.6 ms ± 3.59 ms per loop (mean ± std. dev. of 7 runs, 10 loops each)\n"
     ]
    }
   ],
   "source": [
    "%timeit quadratic_pure_python(x, y)"
   ]
  },
  {
   "cell_type": "markdown",
   "id": "27a1534b",
   "metadata": {
    "slideshow": {
     "slide_type": "slide"
    }
   },
   "source": [
    "### NumPy Solution:"
   ]
  },
  {
   "cell_type": "markdown",
   "id": "a5c5e301",
   "metadata": {},
   "source": [
    "The NumPy `linspace` function provides a nice way of making a grid of evenly-spaced points:"
   ]
  },
  {
   "cell_type": "code",
   "execution_count": 6,
   "id": "2ff98e45",
   "metadata": {},
   "outputs": [],
   "source": [
    "x = np.linspace(-1.0, 1.0, 200)\n",
    "y = np.linspace(-1.0, 1.0, 201)"
   ]
  },
  {
   "cell_type": "markdown",
   "id": "96680fff",
   "metadata": {},
   "source": [
    "We can evaluate $z$ over the entire $210\\times190$ point grid without a loop:"
   ]
  },
  {
   "cell_type": "code",
   "execution_count": 7,
   "id": "c43fcdc1",
   "metadata": {},
   "outputs": [],
   "source": [
    "def quadratic_numpy():\n",
    "    z = (\n",
    "        a * x[:, np.newaxis] ** 2 + b * y[np.newaxis, :] ** 2 +\n",
    "        c * x[:, np.newaxis] * y[np.newaxis, :]\n",
    "    )\n",
    "    return z"
   ]
  },
  {
   "cell_type": "code",
   "execution_count": 8,
   "id": "c3d58351",
   "metadata": {},
   "outputs": [
    {
     "name": "stdout",
     "output_type": "stream",
     "text": [
      "136 µs ± 4.1 µs per loop (mean ± std. dev. of 7 runs, 10000 loops each)\n"
     ]
    }
   ],
   "source": [
    "%timeit quadratic_numpy()"
   ]
  },
  {
   "cell_type": "markdown",
   "id": "182e27b7",
   "metadata": {},
   "source": [
    "NumPy runs $100\\times$ faster, and has cleaner syntax! We get this speedup because NumPy provides a bridge from the slow (but flexible) world of Python to fast compiled C/Fortran code."
   ]
  },
  {
   "cell_type": "markdown",
   "id": "01e5c26e",
   "metadata": {
    "slideshow": {
     "slide_type": "slide"
    }
   },
   "source": [
    "## Storing $N$-Dimensional Data: The `ndarray` Class\n",
    "* The `ndarray` class (usually just called \"array\" or \"numpy array\") stores arrays of $N$-dimensional data\n",
    "* A given array `x` consists of:\n",
    "    * A chunk of memory\n",
    "    * A datatype which indicates what type of value is stored in the memory (`x.dtype`)\n",
    "    * A shape which indicates how the elements are arranged in an $N$-dimensional grid (`x.shape`)"
   ]
  },
  {
   "cell_type": "markdown",
   "id": "03b2574e",
   "metadata": {},
   "source": [
    "## Creating Arrays"
   ]
  },
  {
   "cell_type": "markdown",
   "id": "0ba06959",
   "metadata": {},
   "source": [
    "You can create an array from an existing list:"
   ]
  },
  {
   "cell_type": "code",
   "execution_count": 9,
   "id": "c9abedcc",
   "metadata": {},
   "outputs": [
    {
     "name": "stdout",
     "output_type": "stream",
     "text": [
      "[1. 2. 3. 4.]\n"
     ]
    }
   ],
   "source": [
    "x = np.asarray([1, 2, 3, 4], dtype=float)\n",
    "print(x)"
   ]
  },
  {
   "cell_type": "markdown",
   "id": "7e44b62e",
   "metadata": {},
   "source": [
    "(Note: NumPy can try to guess `dtype` based on the input, but it is usually best to be explicit: if we didn't specify `dtype=float` here, it would have defaulted to `int`.)"
   ]
  },
  {
   "cell_type": "markdown",
   "id": "1f7a0100",
   "metadata": {},
   "source": [
    "You can create multidimensional arrays using nested lists:"
   ]
  },
  {
   "cell_type": "code",
   "execution_count": 10,
   "id": "a9b29888",
   "metadata": {},
   "outputs": [
    {
     "name": "stdout",
     "output_type": "stream",
     "text": [
      "[[1. 2. 3.]\n",
      " [4. 5. 6.]]\n"
     ]
    }
   ],
   "source": [
    "x = np.asarray([[1, 2, 3], [4, 5, 6]], dtype=float)\n",
    "print(x)"
   ]
  },
  {
   "cell_type": "markdown",
   "id": "1ba91ee2",
   "metadata": {},
   "source": [
    "There is a special function to get an array of zeros:"
   ]
  },
  {
   "cell_type": "code",
   "execution_count": 11,
   "id": "91207cad",
   "metadata": {},
   "outputs": [
    {
     "name": "stdout",
     "output_type": "stream",
     "text": [
      "[[0. 0.]\n",
      " [0. 0.]\n",
      " [0. 0.]]\n"
     ]
    }
   ],
   "source": [
    "x = np.zeros((3, 2))\n",
    "print(x)"
   ]
  },
  {
   "cell_type": "markdown",
   "id": "25bea04d",
   "metadata": {},
   "source": [
    "(Note that the shape is indicated as a tuple of ints.)"
   ]
  },
  {
   "cell_type": "markdown",
   "id": "6f9a6ded",
   "metadata": {},
   "source": [
    "An array of ones:"
   ]
  },
  {
   "cell_type": "code",
   "execution_count": 12,
   "id": "6ddb1aaf",
   "metadata": {},
   "outputs": [
    {
     "name": "stdout",
     "output_type": "stream",
     "text": [
      "[1. 1. 1. 1. 1.]\n"
     ]
    }
   ],
   "source": [
    "x = np.ones(5)\n",
    "print(x)"
   ]
  },
  {
   "cell_type": "markdown",
   "id": "7702de49",
   "metadata": {},
   "source": [
    "(Note that a 1d array can be obtained by passing a single int for the shape, rather than a tuple.)"
   ]
  },
  {
   "cell_type": "markdown",
   "id": "85e9df25",
   "metadata": {},
   "source": [
    "If you have an existing array, you can easily create a new array with the same size and dtype:"
   ]
  },
  {
   "cell_type": "code",
   "execution_count": 13,
   "id": "b263536c",
   "metadata": {},
   "outputs": [
    {
     "name": "stdout",
     "output_type": "stream",
     "text": [
      "[[0 0 0]]\n",
      "[[1 1 1]]\n",
      "[[0 0 0]]\n"
     ]
    }
   ],
   "source": [
    "x = np.zeros((1, 3), dtype=int)\n",
    "y = np.ones_like(x)\n",
    "z = np.zeros_like(x)\n",
    "print(x)\n",
    "print(y)\n",
    "print(z)"
   ]
  },
  {
   "cell_type": "markdown",
   "id": "686aa2c4",
   "metadata": {},
   "source": [
    "You can also override the dtype, if necessary:"
   ]
  },
  {
   "cell_type": "code",
   "execution_count": 14,
   "id": "c35b8d16",
   "metadata": {},
   "outputs": [
    {
     "name": "stdout",
     "output_type": "stream",
     "text": [
      "[[1. 1. 1.]]\n"
     ]
    }
   ],
   "source": [
    "y = np.ones_like(x, dtype=float)\n",
    "print(y)"
   ]
  },
  {
   "cell_type": "markdown",
   "id": "d85eeb74",
   "metadata": {},
   "source": [
    "Linearly-spaced numbers:"
   ]
  },
  {
   "cell_type": "code",
   "execution_count": 15,
   "id": "2538f922",
   "metadata": {},
   "outputs": [
    {
     "name": "stdout",
     "output_type": "stream",
     "text": [
      "[0.         0.33333333 0.66666667 1.        ]\n"
     ]
    }
   ],
   "source": [
    "x = np.linspace(0, 1, 4)\n",
    "print(x)"
   ]
  },
  {
   "cell_type": "markdown",
   "id": "0ec11c00",
   "metadata": {},
   "source": [
    "Logarithmically-spaced numbers:"
   ]
  },
  {
   "cell_type": "code",
   "execution_count": 16,
   "id": "8cdb2f2f",
   "metadata": {},
   "outputs": [
    {
     "name": "stdout",
     "output_type": "stream",
     "text": [
      "[ 0.1         0.31622777  1.          3.16227766 10.        ]\n"
     ]
    }
   ],
   "source": [
    "x = np.logspace(-1, 1, 5)\n",
    "print(x)"
   ]
  },
  {
   "cell_type": "markdown",
   "id": "6aa127b2",
   "metadata": {},
   "source": [
    "An identity matrix:"
   ]
  },
  {
   "cell_type": "code",
   "execution_count": 17,
   "id": "89e7ccb8",
   "metadata": {},
   "outputs": [
    {
     "name": "stdout",
     "output_type": "stream",
     "text": [
      "[[1. 0. 0. 0. 0.]\n",
      " [0. 1. 0. 0. 0.]\n",
      " [0. 0. 1. 0. 0.]\n",
      " [0. 0. 0. 1. 0.]\n",
      " [0. 0. 0. 0. 1.]]\n"
     ]
    }
   ],
   "source": [
    "x = np.eye(5)\n",
    "print(x)"
   ]
  },
  {
   "cell_type": "markdown",
   "id": "cc7c685c",
   "metadata": {},
   "source": [
    "## Getting Elements Into (and out of) Arrays\n",
    "### 1d Arrays\n",
    "You can access single elements using square brackets, just like with Python lists:"
   ]
  },
  {
   "cell_type": "code",
   "execution_count": 18,
   "id": "067c239c",
   "metadata": {},
   "outputs": [
    {
     "name": "stdout",
     "output_type": "stream",
     "text": [
      "[0.   0.25 0.5  0.75 1.  ]\n"
     ]
    }
   ],
   "source": [
    "x = np.linspace(0, 1, 5)\n",
    "print(x)"
   ]
  },
  {
   "cell_type": "code",
   "execution_count": 19,
   "id": "75d99ad0",
   "metadata": {},
   "outputs": [
    {
     "name": "stdout",
     "output_type": "stream",
     "text": [
      "0.0\n"
     ]
    }
   ],
   "source": [
    "print(x[0])"
   ]
  },
  {
   "cell_type": "markdown",
   "id": "5b0f2f8d",
   "metadata": {},
   "source": [
    "You can use negative indices:"
   ]
  },
  {
   "cell_type": "code",
   "execution_count": 20,
   "id": "b1179035",
   "metadata": {},
   "outputs": [
    {
     "name": "stdout",
     "output_type": "stream",
     "text": [
      "1.0\n"
     ]
    }
   ],
   "source": [
    "print(x[-1])"
   ]
  },
  {
   "cell_type": "markdown",
   "id": "8f9ba31a",
   "metadata": {},
   "source": [
    "You can access a range of elements using slice notation:"
   ]
  },
  {
   "cell_type": "code",
   "execution_count": 21,
   "id": "028fa09f",
   "metadata": {},
   "outputs": [
    {
     "name": "stdout",
     "output_type": "stream",
     "text": [
      "[0.25 0.5 ]\n"
     ]
    }
   ],
   "source": [
    "print(x[1:3])"
   ]
  },
  {
   "cell_type": "markdown",
   "id": "0cf77e1a",
   "metadata": {},
   "source": [
    "(Note: just like with Python lists, the slice is a half-open interval: `x[1:3]` gets the elements at indices 1 through 2.)"
   ]
  },
  {
   "cell_type": "markdown",
   "id": "a2dbe45f",
   "metadata": {},
   "source": [
    "You can specify a stride for the slice:"
   ]
  },
  {
   "cell_type": "code",
   "execution_count": 22,
   "id": "306934cc",
   "metadata": {},
   "outputs": [
    {
     "name": "stdout",
     "output_type": "stream",
     "text": [
      "[0.25 0.75]\n"
     ]
    }
   ],
   "source": [
    "print(x[1:4:2])"
   ]
  },
  {
   "cell_type": "markdown",
   "id": "a59e3117",
   "metadata": {},
   "source": [
    "As a shorthand, you can omit the start index (it will default to `0`) and/or the stop index (it will default to `len(x)`):"
   ]
  },
  {
   "cell_type": "code",
   "execution_count": 23,
   "id": "e92acb52",
   "metadata": {},
   "outputs": [
    {
     "name": "stdout",
     "output_type": "stream",
     "text": [
      "[0.  0.5 1. ]\n",
      "[0.25 0.75]\n"
     ]
    }
   ],
   "source": [
    "print(x[::2])\n",
    "print(x[1::2])"
   ]
  },
  {
   "cell_type": "markdown",
   "id": "8be7a56c",
   "metadata": {},
   "source": [
    "(Note: `x[::2]` is a shorthand for `x[0:len(x):2]`. Slices in general have the form `start:stop:stride`. Matlab/Octave users should note that the stride is the **last** number in a Python slice.)"
   ]
  },
  {
   "cell_type": "markdown",
   "id": "40ce234d",
   "metadata": {},
   "source": [
    "You can use an array (or list) of integers to extract specific indices:"
   ]
  },
  {
   "cell_type": "code",
   "execution_count": 24,
   "id": "0c5648a5",
   "metadata": {},
   "outputs": [
    {
     "name": "stdout",
     "output_type": "stream",
     "text": [
      "[0.   0.5  0.75]\n"
     ]
    }
   ],
   "source": [
    "print(x[[0, 2, 3]])"
   ]
  },
  {
   "cell_type": "markdown",
   "id": "625f45ed",
   "metadata": {},
   "source": [
    "(Note: the double square brackets \"`[[`\" are necessary!)"
   ]
  },
  {
   "cell_type": "markdown",
   "id": "89103215",
   "metadata": {},
   "source": [
    "You can use an array (or list) of booleans with the same length as the array to extract specified elements:"
   ]
  },
  {
   "cell_type": "code",
   "execution_count": 25,
   "id": "779807d1",
   "metadata": {},
   "outputs": [
    {
     "name": "stdout",
     "output_type": "stream",
     "text": [
      "[0.   0.5  0.75]\n"
     ]
    }
   ],
   "source": [
    "print(x[[True, False, True, True, False]])"
   ]
  },
  {
   "cell_type": "markdown",
   "id": "e76d9089",
   "metadata": {},
   "source": [
    "The use of boolean expressions for indexing is extremely powerful:"
   ]
  },
  {
   "cell_type": "code",
   "execution_count": 26,
   "id": "028d576b",
   "metadata": {},
   "outputs": [
    {
     "name": "stdout",
     "output_type": "stream",
     "text": [
      "[0.5  0.75]\n"
     ]
    }
   ],
   "source": [
    "print(x[(x >= 0.5) & (x < 1.0)])"
   ]
  },
  {
   "cell_type": "markdown",
   "id": "56b442b9",
   "metadata": {},
   "source": [
    "### 2d Arrays\n",
    "You can provide a comma-separated list of any of the types of indexing shown above to extract elements from a 2-dimensional array:"
   ]
  },
  {
   "cell_type": "code",
   "execution_count": 27,
   "id": "20a7d83e",
   "metadata": {},
   "outputs": [
    {
     "name": "stdout",
     "output_type": "stream",
     "text": [
      "[[ 1.16677238 -0.79273278  0.64255107  1.42689448]\n",
      " [-1.72248674  0.8781552  -0.71786047  0.50351411]\n",
      " [ 0.68796811  1.17622744 -1.93170675 -0.30439172]]\n"
     ]
    }
   ],
   "source": [
    "x = np.random.randn(3, 4)\n",
    "print(x)"
   ]
  },
  {
   "cell_type": "markdown",
   "id": "842b1d03",
   "metadata": {},
   "source": [
    "The first index is the row index, the second index is the column index:"
   ]
  },
  {
   "cell_type": "code",
   "execution_count": 28,
   "id": "cd11ddf0",
   "metadata": {},
   "outputs": [
    {
     "name": "stdout",
     "output_type": "stream",
     "text": [
      "-0.7927327819132725\n"
     ]
    }
   ],
   "source": [
    "print(x[0, 1])"
   ]
  },
  {
   "cell_type": "markdown",
   "id": "d2c1b516",
   "metadata": {},
   "source": [
    "To get all of the entries along a given axis (e.g., an entire row), use the slice operator `:` with no start, end, or stride indicated:"
   ]
  },
  {
   "cell_type": "code",
   "execution_count": 29,
   "id": "faed9483",
   "metadata": {},
   "outputs": [
    {
     "name": "stdout",
     "output_type": "stream",
     "text": [
      "[ 1.16677238 -0.79273278  0.64255107  1.42689448]\n"
     ]
    }
   ],
   "source": [
    "print(x[0, :])"
   ]
  },
  {
   "cell_type": "markdown",
   "id": "814f3e27",
   "metadata": {},
   "source": [
    "You can omit the trailing `:` when accessing entire rows:"
   ]
  },
  {
   "cell_type": "code",
   "execution_count": 30,
   "id": "910a3fab",
   "metadata": {},
   "outputs": [
    {
     "name": "stdout",
     "output_type": "stream",
     "text": [
      "[ 1.16677238 -0.79273278  0.64255107  1.42689448]\n"
     ]
    }
   ],
   "source": [
    "print(x[0])"
   ]
  },
  {
   "cell_type": "markdown",
   "id": "72d65681",
   "metadata": {},
   "source": [
    "Indexing with boolean arrays is a little more complicated. You can use a mask which has the same shape as `x` to get a 1d array of all elements for which the mask is `True`:"
   ]
  },
  {
   "cell_type": "code",
   "execution_count": 31,
   "id": "8c7ed48c",
   "metadata": {
    "scrolled": true
   },
   "outputs": [
    {
     "name": "stdout",
     "output_type": "stream",
     "text": [
      "[1.16677238 0.64255107 1.42689448 0.8781552  0.50351411 0.68796811\n",
      " 1.17622744]\n"
     ]
    }
   ],
   "source": [
    "print(x[x > 0])"
   ]
  },
  {
   "cell_type": "markdown",
   "id": "11b92db7",
   "metadata": {},
   "source": [
    "Or you can provide a mask for only one dimension:"
   ]
  },
  {
   "cell_type": "code",
   "execution_count": 32,
   "id": "666ef887",
   "metadata": {},
   "outputs": [
    {
     "name": "stdout",
     "output_type": "stream",
     "text": [
      "[[ 1.16677238 -0.79273278  0.64255107  1.42689448]\n",
      " [ 0.68796811  1.17622744 -1.93170675 -0.30439172]]\n"
     ]
    }
   ],
   "source": [
    "print(x[[True, False, True], :])"
   ]
  },
  {
   "cell_type": "markdown",
   "id": "c949521c",
   "metadata": {},
   "source": [
    "### Higher-Dimensional Arrays\n",
    "Pretty much the same as 2-dimensional: provide a comma-separated list of indices, one for each dimension."
   ]
  },
  {
   "cell_type": "code",
   "execution_count": 33,
   "id": "ddb792a9",
   "metadata": {},
   "outputs": [],
   "source": [
    "x = np.random.randn(2, 3, 4)"
   ]
  },
  {
   "cell_type": "markdown",
   "id": "acdfd455",
   "metadata": {},
   "source": [
    "You can omit any number of trailing `:`'s:"
   ]
  },
  {
   "cell_type": "code",
   "execution_count": 34,
   "id": "2efb0afd",
   "metadata": {},
   "outputs": [
    {
     "name": "stdout",
     "output_type": "stream",
     "text": [
      "[[-0.28667442 -0.25492334 -2.62146703 -0.17214025]\n",
      " [-0.85438128  0.47542297  0.51054938  0.63608705]\n",
      " [ 1.48178515  2.11966493  1.89984261 -0.15201091]]\n",
      "[[-0.28667442 -0.25492334 -2.62146703 -0.17214025]\n",
      " [-0.85438128  0.47542297  0.51054938  0.63608705]\n",
      " [ 1.48178515  2.11966493  1.89984261 -0.15201091]]\n"
     ]
    }
   ],
   "source": [
    "print(x[0, :, :])\n",
    "print(x[0])"
   ]
  },
  {
   "cell_type": "markdown",
   "id": "a0dbf7b1",
   "metadata": {},
   "source": [
    "You can omit any number of leading `:`'s by using `...`:"
   ]
  },
  {
   "cell_type": "code",
   "execution_count": 35,
   "id": "4dbb07a8",
   "metadata": {},
   "outputs": [
    {
     "name": "stdout",
     "output_type": "stream",
     "text": [
      "[[-0.28667442 -0.85438128  1.48178515]\n",
      " [-1.32393801  0.62524715 -1.59888484]]\n",
      "[[-0.28667442 -0.85438128  1.48178515]\n",
      " [-1.32393801  0.62524715 -1.59888484]]\n"
     ]
    }
   ],
   "source": [
    "print(x[:, :, 0])\n",
    "print(x[..., 0])"
   ]
  },
  {
   "cell_type": "markdown",
   "id": "29a3b803",
   "metadata": {},
   "source": [
    "### Adding New Dimensions With Indexing: `np.newaxis`\n",
    "You can add a new dimension (with length 1) to an array by including `np.newaxis` in the list of index expressions. This will be very useful once we introduce the concept of broadcasting, below."
   ]
  },
  {
   "cell_type": "code",
   "execution_count": 36,
   "id": "fe7fcd6b",
   "metadata": {},
   "outputs": [
    {
     "name": "stdout",
     "output_type": "stream",
     "text": [
      "(4, 3)\n",
      "(4, 1, 3)\n"
     ]
    }
   ],
   "source": [
    "x = np.random.randn(4, 3)\n",
    "y = x[:, np.newaxis, :]\n",
    "print(x.shape)\n",
    "print(y.shape)"
   ]
  },
  {
   "cell_type": "markdown",
   "id": "6180c590",
   "metadata": {},
   "source": [
    "## Array Operations\n",
    "The key to NumPy's power is the ability to do fast *vectorized* operations. \"Vectorized\" simply means that you can perform the same operation on every element of an array with a single function call -- no need to write a loop. In fact, you should avoid writing loops whenever possible, as when performing an operation on all of the elements of an array it is almost always faster (and cleaner) to do a single call to a NumPy function.\n",
    "\n",
    "### Unary Operations on Arrays\n",
    "Unary operators act element-by-element on arrays. This makes the syntax for performing calculations over a grid of inputs very clean, and is also much faster than using loops."
   ]
  },
  {
   "cell_type": "markdown",
   "id": "b65631aa",
   "metadata": {},
   "source": [
    "Let's test the speed difference using exponentiation:"
   ]
  },
  {
   "cell_type": "code",
   "execution_count": 37,
   "id": "e132ae2c",
   "metadata": {},
   "outputs": [],
   "source": [
    "x = np.linspace(0, 1, 5000)"
   ]
  },
  {
   "cell_type": "code",
   "execution_count": 38,
   "id": "b9b5ea4d",
   "metadata": {},
   "outputs": [],
   "source": [
    "def square_loop(x):\n",
    "    y = np.zeros_like(x)\n",
    "    for idx, x_val in enumerate(x):\n",
    "        y[idx] = x_val ** 2\n",
    "    return y"
   ]
  },
  {
   "cell_type": "code",
   "execution_count": 39,
   "id": "4634a770",
   "metadata": {},
   "outputs": [
    {
     "name": "stdout",
     "output_type": "stream",
     "text": [
      "2.19 ms ± 132 µs per loop (mean ± std. dev. of 7 runs, 100 loops each)\n"
     ]
    }
   ],
   "source": [
    "%timeit square_loop(x)"
   ]
  },
  {
   "cell_type": "code",
   "execution_count": 40,
   "id": "48741900",
   "metadata": {},
   "outputs": [],
   "source": [
    "def square_numpy(x):\n",
    "    return x ** 2"
   ]
  },
  {
   "cell_type": "code",
   "execution_count": 41,
   "id": "748b255d",
   "metadata": {},
   "outputs": [
    {
     "name": "stdout",
     "output_type": "stream",
     "text": [
      "3.71 µs ± 215 ns per loop (mean ± std. dev. of 7 runs, 100000 loops each)\n"
     ]
    }
   ],
   "source": [
    "%timeit square_numpy(x)"
   ]
  },
  {
   "cell_type": "markdown",
   "id": "a8ecc56d",
   "metadata": {},
   "source": [
    "Using the vectorized version is over 500x faster!"
   ]
  },
  {
   "cell_type": "markdown",
   "id": "09c336a2",
   "metadata": {},
   "source": [
    "To illustrate some of the main unary operations, let's use a smaller array:"
   ]
  },
  {
   "cell_type": "code",
   "execution_count": 42,
   "id": "7bd0b4d7",
   "metadata": {},
   "outputs": [
    {
     "name": "stdout",
     "output_type": "stream",
     "text": [
      "[0.   0.25 0.5  0.75 1.  ]\n"
     ]
    }
   ],
   "source": [
    "x = np.linspace(0, 1, 5)\n",
    "print(x)"
   ]
  },
  {
   "cell_type": "markdown",
   "id": "1adf9240",
   "metadata": {},
   "source": [
    "Addition of a scalar:"
   ]
  },
  {
   "cell_type": "code",
   "execution_count": 43,
   "id": "09131ac5",
   "metadata": {},
   "outputs": [
    {
     "name": "stdout",
     "output_type": "stream",
     "text": [
      "[10.   10.25 10.5  10.75 11.  ]\n"
     ]
    }
   ],
   "source": [
    "y = x + 10\n",
    "print(y)"
   ]
  },
  {
   "cell_type": "markdown",
   "id": "4a50c416",
   "metadata": {},
   "source": [
    "Multiplication by a scalar:"
   ]
  },
  {
   "cell_type": "code",
   "execution_count": 44,
   "id": "e3871df9",
   "metadata": {},
   "outputs": [
    {
     "name": "stdout",
     "output_type": "stream",
     "text": [
      "[0.   1.25 2.5  3.75 5.  ]\n"
     ]
    }
   ],
   "source": [
    "y = 5 * x\n",
    "print(y)"
   ]
  },
  {
   "cell_type": "markdown",
   "id": "ed6e426d",
   "metadata": {},
   "source": [
    "Division by a scalar:"
   ]
  },
  {
   "cell_type": "code",
   "execution_count": 45,
   "id": "79032474",
   "metadata": {},
   "outputs": [
    {
     "name": "stdout",
     "output_type": "stream",
     "text": [
      "[0.    0.125 0.25  0.375 0.5  ]\n"
     ]
    }
   ],
   "source": [
    "y = x / 2\n",
    "print(y)"
   ]
  },
  {
   "cell_type": "markdown",
   "id": "1ac7d6f5",
   "metadata": {},
   "source": [
    "Negation:"
   ]
  },
  {
   "cell_type": "code",
   "execution_count": 46,
   "id": "b8eef13a",
   "metadata": {},
   "outputs": [
    {
     "name": "stdout",
     "output_type": "stream",
     "text": [
      "[-0.   -0.25 -0.5  -0.75 -1.  ]\n"
     ]
    }
   ],
   "source": [
    "y = -x\n",
    "print(y)"
   ]
  },
  {
   "cell_type": "markdown",
   "id": "97956d80",
   "metadata": {},
   "source": [
    "Exponentiation:"
   ]
  },
  {
   "cell_type": "code",
   "execution_count": 47,
   "id": "43c88a68",
   "metadata": {},
   "outputs": [
    {
     "name": "stdout",
     "output_type": "stream",
     "text": [
      "[0.     0.0625 0.25   0.5625 1.    ]\n"
     ]
    }
   ],
   "source": [
    "y = x ** 2\n",
    "print(y)"
   ]
  },
  {
   "cell_type": "markdown",
   "id": "dfd4e3ba",
   "metadata": {},
   "source": [
    "Square root:"
   ]
  },
  {
   "cell_type": "code",
   "execution_count": 48,
   "id": "a1abeb9c",
   "metadata": {},
   "outputs": [
    {
     "name": "stdout",
     "output_type": "stream",
     "text": [
      "[0.         0.5        0.70710678 0.8660254  1.        ]\n"
     ]
    }
   ],
   "source": [
    "y = np.sqrt(x)\n",
    "print(y)"
   ]
  },
  {
   "cell_type": "markdown",
   "id": "84229780",
   "metadata": {},
   "source": [
    "Exponential ($y=e^x$):"
   ]
  },
  {
   "cell_type": "code",
   "execution_count": 49,
   "id": "3db8f084",
   "metadata": {},
   "outputs": [
    {
     "name": "stdout",
     "output_type": "stream",
     "text": [
      "[1.         1.28402542 1.64872127 2.11700002 2.71828183]\n"
     ]
    }
   ],
   "source": [
    "y = np.exp(x)\n",
    "print(y)"
   ]
  },
  {
   "cell_type": "markdown",
   "id": "af368d78",
   "metadata": {},
   "source": [
    "(Natural) Logarithm:"
   ]
  },
  {
   "cell_type": "code",
   "execution_count": 50,
   "id": "6e586c1d",
   "metadata": {},
   "outputs": [
    {
     "name": "stdout",
     "output_type": "stream",
     "text": [
      "[       -inf -1.38629436 -0.69314718 -0.28768207  0.        ]\n"
     ]
    },
    {
     "name": "stderr",
     "output_type": "stream",
     "text": [
      "/var/folders/1d/t26w870175q9__c1qp_d1w4r0000gp/T/ipykernel_23000/2719270062.py:1: RuntimeWarning: divide by zero encountered in log\n",
      "  y = np.log(x)\n"
     ]
    }
   ],
   "source": [
    "y = np.log(x)\n",
    "print(y)"
   ]
  },
  {
   "cell_type": "markdown",
   "id": "aed4e0e3",
   "metadata": {},
   "source": [
    "(Note: $\\log(0)$ evaluates to the floating point value `-inf` and raises a warning.)"
   ]
  },
  {
   "cell_type": "markdown",
   "id": "ebf6e7fd",
   "metadata": {},
   "source": [
    "Trigonometric sine:"
   ]
  },
  {
   "cell_type": "code",
   "execution_count": 51,
   "id": "7913536f",
   "metadata": {},
   "outputs": [
    {
     "name": "stdout",
     "output_type": "stream",
     "text": [
      "[0.         0.24740396 0.47942554 0.68163876 0.84147098]\n"
     ]
    }
   ],
   "source": [
    "y = np.sin(x)\n",
    "print(y)"
   ]
  },
  {
   "cell_type": "markdown",
   "id": "3e41f236",
   "metadata": {},
   "source": [
    "### Binary Operations on Equally-Sized Arrays\n",
    "Binary operations also act element-by-element. Let's illustrate that with the following arrays:"
   ]
  },
  {
   "cell_type": "code",
   "execution_count": 52,
   "id": "3eff8c40",
   "metadata": {},
   "outputs": [
    {
     "name": "stdout",
     "output_type": "stream",
     "text": [
      "[0.   0.25 0.5  0.75 1.  ]\n",
      "[1.   1.25 1.5  1.75 2.  ]\n"
     ]
    }
   ],
   "source": [
    "x = np.linspace(0, 1, 5)\n",
    "y = np.linspace(1, 2, 5)\n",
    "print(x)\n",
    "print(y)"
   ]
  },
  {
   "cell_type": "markdown",
   "id": "5687bdf8",
   "metadata": {},
   "source": [
    "Addition:"
   ]
  },
  {
   "cell_type": "code",
   "execution_count": 53,
   "id": "6aa1a55d",
   "metadata": {},
   "outputs": [
    {
     "name": "stdout",
     "output_type": "stream",
     "text": [
      "[1.  1.5 2.  2.5 3. ]\n"
     ]
    }
   ],
   "source": [
    "z = x + y\n",
    "print(z)"
   ]
  },
  {
   "cell_type": "markdown",
   "id": "1317efed",
   "metadata": {},
   "source": [
    "Multiplication:"
   ]
  },
  {
   "cell_type": "code",
   "execution_count": 54,
   "id": "c956d200",
   "metadata": {},
   "outputs": [
    {
     "name": "stdout",
     "output_type": "stream",
     "text": [
      "[0.     0.3125 0.75   1.3125 2.    ]\n"
     ]
    }
   ],
   "source": [
    "z = x * y\n",
    "print(z)"
   ]
  },
  {
   "cell_type": "markdown",
   "id": "2af2f69e",
   "metadata": {},
   "source": [
    "Division:"
   ]
  },
  {
   "cell_type": "code",
   "execution_count": 55,
   "id": "065c975c",
   "metadata": {},
   "outputs": [
    {
     "name": "stdout",
     "output_type": "stream",
     "text": [
      "[       inf 5.         3.         2.33333333 2.        ]\n"
     ]
    },
    {
     "name": "stderr",
     "output_type": "stream",
     "text": [
      "/var/folders/1d/t26w870175q9__c1qp_d1w4r0000gp/T/ipykernel_23000/793868733.py:1: RuntimeWarning: divide by zero encountered in true_divide\n",
      "  z = y / x\n"
     ]
    }
   ],
   "source": [
    "z = y / x\n",
    "print(z)"
   ]
  },
  {
   "cell_type": "markdown",
   "id": "c264ac0b",
   "metadata": {},
   "source": [
    "(Note: division by zero returns the floating point value `inf` and raises a warning.)"
   ]
  },
  {
   "cell_type": "markdown",
   "id": "01c42a1e",
   "metadata": {},
   "source": [
    "Exponentiation:"
   ]
  },
  {
   "cell_type": "code",
   "execution_count": 56,
   "id": "50f2358e",
   "metadata": {},
   "outputs": [
    {
     "name": "stdout",
     "output_type": "stream",
     "text": [
      "[0.         0.1767767  0.35355339 0.60444559 1.        ]\n"
     ]
    }
   ],
   "source": [
    "z = x ** y\n",
    "print(z)"
   ]
  },
  {
   "cell_type": "markdown",
   "id": "31e84c42",
   "metadata": {},
   "source": [
    "### Broadcasting: Binary Operations on Differently-Sized Arrays\n",
    "#### Basic Example\n",
    "Broadcasting is a powerful syntax for efficiently performing calculations on \"tensor product\" grids of inputs. It allows you to write very fast, expressive code without needing loops -- we used this in the 2d quadratric example at the beginning. Let's take a closer look. Say we want to evaluate the cross-term `z=xy` on the grid $-1\\leq x\\leq 0$, $0\\leq y\\leq 1$:"
   ]
  },
  {
   "cell_type": "code",
   "execution_count": 57,
   "id": "abf04f58",
   "metadata": {},
   "outputs": [],
   "source": [
    "x = np.linspace(-1, 0, 5)\n",
    "y = np.linspace(0, 1, 6)"
   ]
  },
  {
   "cell_type": "markdown",
   "id": "1ead6a20",
   "metadata": {},
   "source": [
    "`x` and `y` have different shapes, so trying to call `x*y` raises an error:"
   ]
  },
  {
   "cell_type": "code",
   "execution_count": 58,
   "id": "1e944fc9",
   "metadata": {},
   "outputs": [
    {
     "name": "stdout",
     "output_type": "stream",
     "text": [
      "Traceback (most recent call last):\n",
      "  File \"/var/folders/1d/t26w870175q9__c1qp_d1w4r0000gp/T/ipykernel_23000/1242151789.py\", line 3, in <module>\n",
      "    z = x * y\n",
      "ValueError: operands could not be broadcast together with shapes (5,) (6,) \n",
      "\n"
     ]
    }
   ],
   "source": [
    "# We use a try-catch so that the notebook can run through:\n",
    "try:\n",
    "    z = x * y\n",
    "except ValueError as e:\n",
    "    import traceback\n",
    "    print(traceback.format_exc())"
   ]
  },
  {
   "cell_type": "markdown",
   "id": "60a42ede",
   "metadata": {},
   "source": [
    "Instead, we can use `np.newaxis` to reshape `x` and `y`:"
   ]
  },
  {
   "cell_type": "code",
   "execution_count": 59,
   "id": "1e3b206c",
   "metadata": {},
   "outputs": [
    {
     "name": "stdout",
     "output_type": "stream",
     "text": [
      "(5, 1)\n",
      "(1, 6)\n"
     ]
    }
   ],
   "source": [
    "x_reshaped = x[:, np.newaxis]\n",
    "y_reshaped = y[np.newaxis, :]\n",
    "print(x_reshaped.shape)\n",
    "print(y_reshaped.shape)"
   ]
  },
  {
   "cell_type": "markdown",
   "id": "d3c61cb9",
   "metadata": {},
   "source": [
    "We can now compute the desired cross-term:"
   ]
  },
  {
   "cell_type": "code",
   "execution_count": 60,
   "id": "38757ab6",
   "metadata": {},
   "outputs": [
    {
     "name": "stdout",
     "output_type": "stream",
     "text": [
      "(5, 6)\n"
     ]
    }
   ],
   "source": [
    "z = x_reshaped * y_reshaped\n",
    "print(z.shape)"
   ]
  },
  {
   "cell_type": "markdown",
   "id": "e82e25fb",
   "metadata": {},
   "source": [
    "Essentially what happens is NumPy acts as if `x_reshaped` has shape `(5, 6)`, where every column `x_reshaped[:, i]` is the same. But, it does this in a very memory-efficient way: you only ever have to store the 5 elements of `x_reshaped`, not the 30 elements of the expanded array. Similarly, NumPy acts as if `y_reshaped` has shape `(5, 6)`, where every row `y_reshaped[i, :]` is the same.\n",
    "\n",
    "#### Full Details\n",
    "Two arrays can be broadcast together if their shapes are compatible. To determine compatibility, use the following steps:\n",
    "1. If one array has fewer dimensions than the other, add 1's at the *beginning* of the lower-dimensional array's shape\n",
    "2. For each element of the shapes, either:\n",
    "    * The two arrays must have the same number of elements along that dimension, or\n",
    "    * One (or both) of the arrays must have 1 element along that dimension\n",
    "\n",
    "Example:"
   ]
  },
  {
   "cell_type": "code",
   "execution_count": 61,
   "id": "d04c1138",
   "metadata": {},
   "outputs": [
    {
     "name": "stdout",
     "output_type": "stream",
     "text": [
      "   (2, 1, 3)\n",
      "(5, 1, 4, 3)\n",
      "(5, 2, 4, 3)\n"
     ]
    }
   ],
   "source": [
    "x = np.zeros((2, 1, 3))\n",
    "y = np.zeros((5, 1, 4, 3))\n",
    "z = x + y\n",
    "print('  ', x.shape)\n",
    "print(y.shape)\n",
    "print(z.shape)"
   ]
  },
  {
   "cell_type": "markdown",
   "id": "fd9e2a11",
   "metadata": {},
   "source": [
    "### Aggregation Operations on Arrays\n",
    "The unary and binary operations we've looked at so far leave the array shapes unchanged (or expanded according to the broadcasting rules). There are also operations to compute aggregated quantities, which cause one or more dimensions to be dropped."
   ]
  },
  {
   "cell_type": "code",
   "execution_count": 62,
   "id": "3dee0d6f",
   "metadata": {},
   "outputs": [
    {
     "name": "stdout",
     "output_type": "stream",
     "text": [
      "[0.   0.25 0.5  0.75 1.  ]\n"
     ]
    }
   ],
   "source": [
    "x = np.linspace(0, 1, 5)\n",
    "print(x)"
   ]
  },
  {
   "cell_type": "markdown",
   "id": "5695b004",
   "metadata": {},
   "source": [
    "Many of these are available as methods of the array class itself, including:\n",
    "\n",
    "Sum of elements:"
   ]
  },
  {
   "cell_type": "code",
   "execution_count": 63,
   "id": "4d003304",
   "metadata": {},
   "outputs": [
    {
     "name": "stdout",
     "output_type": "stream",
     "text": [
      "2.5\n"
     ]
    }
   ],
   "source": [
    "print(x.sum())"
   ]
  },
  {
   "cell_type": "markdown",
   "id": "4abbc814",
   "metadata": {},
   "source": [
    "Minimum value:"
   ]
  },
  {
   "cell_type": "code",
   "execution_count": 64,
   "id": "0d4f804d",
   "metadata": {},
   "outputs": [
    {
     "name": "stdout",
     "output_type": "stream",
     "text": [
      "0.0\n"
     ]
    }
   ],
   "source": [
    "print(x.min())"
   ]
  },
  {
   "cell_type": "markdown",
   "id": "64bd2f0e",
   "metadata": {},
   "source": [
    "Maximum value:"
   ]
  },
  {
   "cell_type": "code",
   "execution_count": 65,
   "id": "cca4486b",
   "metadata": {},
   "outputs": [
    {
     "name": "stdout",
     "output_type": "stream",
     "text": [
      "1.0\n"
     ]
    }
   ],
   "source": [
    "print(x.max())"
   ]
  },
  {
   "cell_type": "markdown",
   "id": "31e8cc73",
   "metadata": {},
   "source": [
    "Mean value:"
   ]
  },
  {
   "cell_type": "code",
   "execution_count": 66,
   "id": "5982085d",
   "metadata": {},
   "outputs": [
    {
     "name": "stdout",
     "output_type": "stream",
     "text": [
      "0.5\n"
     ]
    }
   ],
   "source": [
    "print(x.mean())"
   ]
  },
  {
   "cell_type": "markdown",
   "id": "969fd577",
   "metadata": {},
   "source": [
    "Standard deviation:"
   ]
  },
  {
   "cell_type": "code",
   "execution_count": 67,
   "id": "9e5c6348",
   "metadata": {},
   "outputs": [
    {
     "name": "stdout",
     "output_type": "stream",
     "text": [
      "0.3535533905932738\n"
     ]
    }
   ],
   "source": [
    "print(x.std())"
   ]
  },
  {
   "cell_type": "markdown",
   "id": "1c011a36",
   "metadata": {},
   "source": [
    "On multi-dimensional arrays, the default is to compute these operations across all elements in the array, so the result is a scalar:"
   ]
  },
  {
   "cell_type": "code",
   "execution_count": 68,
   "id": "548e9600",
   "metadata": {},
   "outputs": [
    {
     "name": "stdout",
     "output_type": "stream",
     "text": [
      "360.0\n"
     ]
    }
   ],
   "source": [
    "x = np.ones((3, 4, 5, 6))\n",
    "print(x.sum())"
   ]
  },
  {
   "cell_type": "markdown",
   "id": "316ac5b9",
   "metadata": {},
   "source": [
    "You can also specify an axis to apply the operation along:"
   ]
  },
  {
   "cell_type": "code",
   "execution_count": 69,
   "id": "afeee634",
   "metadata": {},
   "outputs": [
    {
     "name": "stdout",
     "output_type": "stream",
     "text": [
      "(3, 4, 5, 6)\n",
      "(3, 4, 6)\n"
     ]
    }
   ],
   "source": [
    "s = x.sum(axis=2)\n",
    "print(x.shape)\n",
    "print(s.shape)"
   ]
  },
  {
   "cell_type": "markdown",
   "id": "797f37ee",
   "metadata": {},
   "source": [
    "Note that the output has one fewer dimension. Mathematically, what we now have is $s_{abc} = \\sum_d x_{abcd}$."
   ]
  },
  {
   "cell_type": "markdown",
   "id": "a86f19b3",
   "metadata": {},
   "source": [
    "We can also provide multiple dimensions to sum over:"
   ]
  },
  {
   "cell_type": "code",
   "execution_count": 70,
   "id": "27e9eb6a",
   "metadata": {},
   "outputs": [
    {
     "name": "stdout",
     "output_type": "stream",
     "text": [
      "(3, 4, 5, 6)\n",
      "(3, 5)\n"
     ]
    }
   ],
   "source": [
    "s = x.sum(axis=(1, 3))\n",
    "print(x.shape)\n",
    "print(s.shape)"
   ]
  },
  {
   "cell_type": "markdown",
   "id": "ae462aaa",
   "metadata": {},
   "source": [
    "What we have in this case is $s_{ac}=\\sum_b\\sum_d x_{abcd}$"
   ]
  },
  {
   "cell_type": "markdown",
   "id": "9e35e79d",
   "metadata": {},
   "source": [
    "Sometimes we want to keep the dimension we aggregated over. For instance, suppose we want to normalize each row of a matrix by its 2-norm (using `np.linalg.norm`, a function which takes a single array as its argument). The shapes are not compatible, and hence trying to compute `x / x_sum` would raise an exception:"
   ]
  },
  {
   "cell_type": "code",
   "execution_count": 71,
   "id": "f2f04d7a",
   "metadata": {},
   "outputs": [
    {
     "name": "stdout",
     "output_type": "stream",
     "text": [
      "(3, 4)\n",
      "   (3,)\n"
     ]
    }
   ],
   "source": [
    "x = 10 * np.random.randn(3, 4)\n",
    "x_norm = np.linalg.norm(x, axis=1)\n",
    "print(x.shape)\n",
    "print('  ', x_norm.shape)"
   ]
  },
  {
   "cell_type": "markdown",
   "id": "30e5d305",
   "metadata": {},
   "source": [
    "Instead, we can use the `keepdims` flag:"
   ]
  },
  {
   "cell_type": "code",
   "execution_count": 72,
   "id": "924ae1d8",
   "metadata": {},
   "outputs": [
    {
     "name": "stdout",
     "output_type": "stream",
     "text": [
      "(3, 4)\n",
      "(3, 1)\n",
      "[[-11.62346808   6.94152477  13.98248307 -17.00805264]\n",
      " [-14.9238661   -0.74814908   0.40536377   2.78640976]\n",
      " [ -5.64828621  -5.13440234  -0.53883976  -3.16252196]]\n",
      "[[-0.44970075  0.26856089  0.54096877 -0.65802513]\n",
      " [-0.98147248 -0.04920225  0.02665887  0.18324906]\n",
      " [-0.68216655 -0.6201027  -0.06507787 -0.38195067]]\n"
     ]
    }
   ],
   "source": [
    "x_norm = np.linalg.norm(x, axis=1, keepdims=True)\n",
    "x_normalized = x / x_norm\n",
    "print(x.shape)\n",
    "print(x_norm.shape)\n",
    "print(x)\n",
    "print(x_normalized)"
   ]
  },
  {
   "cell_type": "markdown",
   "id": "41f9f2f4",
   "metadata": {},
   "source": [
    "## Doing Stuff With Arrays: The Scientific Python Ecosystem\n",
    "Many packages use NumPy to move data around and accomplish various tasks. The ones I use the most are:\n",
    "* NumPy (https://numpy.org/) itself provides subpackages for:\n",
    "    * Linear algebra (`numpy.linalg`)\n",
    "    * Taking discrete Fourier transforms (`numpy.fft`), and\n",
    "    * Generating random numbers (`numpy.random`)\n",
    "* SciPy (https://scipy.org/) was developed jointly with NumPy, and provides higher-level routines for:\n",
    "    * Special functions (`scipy.special`)\n",
    "    * Numeric integration (`scipy.integrate`)\n",
    "    * Optimization (`scipy.optimize`)\n",
    "    * Interpolation (`scipy.interpolate`)\n",
    "    * More powerful Fourier transform capabilities (`scipy.fft`)\n",
    "    * Signal processing (`scipy.signal`)\n",
    "    * More powerful linear algebra capabilities (`scipy.linalg`)\n",
    "    * Manipulating spatial data (`scipy.spatial`)\n",
    "    * Statistics (`scipy.stats`)\n",
    "    * Multidimensional image processing (`scipy.ndimage`)\n",
    "    * Reading various file formats (`scipy.io`)\n",
    "* Matplotlib (https://matplotlib.org/) provides a variety of plotting routines\n",
    "* scikit-learn (https://scikit-learn.org/stable/) provides a **huge** range of machine learning algorithms and supporting tools"
   ]
  },
  {
   "cell_type": "code",
   "execution_count": null,
   "id": "ebc37d3d",
   "metadata": {},
   "outputs": [],
   "source": []
  }
 ],
 "metadata": {
  "kernelspec": {
   "display_name": "Python 3 (ipykernel)",
   "language": "python",
   "name": "python3"
  },
  "language_info": {
   "codemirror_mode": {
    "name": "ipython",
    "version": 3
   },
   "file_extension": ".py",
   "mimetype": "text/x-python",
   "name": "python",
   "nbconvert_exporter": "python",
   "pygments_lexer": "ipython3",
   "version": "3.10.1"
  }
 },
 "nbformat": 4,
 "nbformat_minor": 5
}
