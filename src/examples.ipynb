{
 "cells": [
  {
   "cell_type": "markdown",
   "id": "5cf7060f",
   "metadata": {
    "slideshow": {
     "slide_type": "slide"
    }
   },
   "source": [
    "# Scientific Computing in Python: A NumPy Crash-Course Cluedump\n",
    "\n",
    "Mark Chilenski (markchil)\n",
    "\n",
    "January 25, 2022\n",
    "\n",
    "You can download this notebook and supporting materials at https://github.com/markchil/numpy-lecture"
   ]
  },
  {
   "cell_type": "markdown",
   "id": "ebc227ea",
   "metadata": {
    "slideshow": {
     "slide_type": "slide"
    }
   },
   "source": [
    "Copyright 2021 Mark Chilenski\n",
    "\n",
    "This program is free software: you can redistribute it and/or modify\n",
    "it under the terms of the GNU General Public License as published by\n",
    "the Free Software Foundation, either version 3 of the License, or\n",
    "(at your option) any later version.\n",
    "\n",
    "This program is distributed in the hope that it will be useful,\n",
    "but WITHOUT ANY WARRANTY; without even the implied warranty of\n",
    "MERCHANTABILITY or FITNESS FOR A PARTICULAR PURPOSE.  See the\n",
    "GNU General Public License for more details.\n",
    "\n",
    "You should have received a copy of the GNU General Public License\n",
    "along with this program.  If not, see <https://www.gnu.org/licenses/>."
   ]
  },
  {
   "cell_type": "markdown",
   "id": "201897da",
   "metadata": {
    "slideshow": {
     "slide_type": "slide"
    }
   },
   "source": [
    "## Introduction\n",
    "NumPy is the main Python package for performing numerical computations\n",
    "\n",
    "* NumPy provides efficient data structures and functions for manipulating arrays of numbers\n",
    "* You can lots of computations with NumPy itself, or can hand off NumPy arrays for use in other specialized packages such as SciPy"
   ]
  },
  {
   "cell_type": "markdown",
   "id": "4b7f8987",
   "metadata": {
    "slideshow": {
     "slide_type": "-"
    }
   },
   "source": [
    "NumPy is usually imported as `np`:"
   ]
  },
  {
   "cell_type": "code",
   "execution_count": 70,
   "id": "1639a4ea",
   "metadata": {},
   "outputs": [],
   "source": [
    "import numpy as np"
   ]
  },
  {
   "cell_type": "markdown",
   "id": "cba6842f",
   "metadata": {
    "slideshow": {
     "slide_type": "slide"
    }
   },
   "source": [
    "## Example: Evaluating a 2d Quadratic\n",
    "Let's evaluate $z = ax^2 + by^2 + cxy$ over a 2d grid covering $-1\\leq x, y\\leq 1$. First, we define the coefficients as regular Python floats:"
   ]
  },
  {
   "cell_type": "code",
   "execution_count": 2,
   "id": "7b065ac0",
   "metadata": {},
   "outputs": [],
   "source": [
    "a = 5.0\n",
    "b = -2.0\n",
    "c = 3.0"
   ]
  },
  {
   "cell_type": "markdown",
   "id": "872e36b7",
   "metadata": {
    "slideshow": {
     "slide_type": "slide"
    }
   },
   "source": [
    "### Pure Python Solution:"
   ]
  },
  {
   "cell_type": "markdown",
   "id": "491a819a",
   "metadata": {},
   "source": [
    "A pure Python solution requires some ugly syntax to set up the grids for $x$ and $y$:"
   ]
  },
  {
   "cell_type": "code",
   "execution_count": 3,
   "id": "574ef8f0",
   "metadata": {},
   "outputs": [],
   "source": [
    "x = [2.0 * v / (200 - 1) - 1.0 for v in range(200)]\n",
    "y = [2.0 * v / (201 - 1) - 1.0 for v in range(201)]"
   ]
  },
  {
   "cell_type": "markdown",
   "id": "2fbd6d31",
   "metadata": {},
   "source": [
    "Evaluating $z$ requires nested for-loops:"
   ]
  },
  {
   "cell_type": "code",
   "execution_count": 4,
   "id": "ee2aef4d",
   "metadata": {},
   "outputs": [],
   "source": [
    "def quadratic_pure_python(x, y):\n",
    "    z = []\n",
    "    for x_val in x:\n",
    "        row = []\n",
    "        for y_val in y:\n",
    "            row.append(a * x_val ** 2 + b * y_val ** 2 + c * x_val * y_val)\n",
    "        z.append(row)\n",
    "    return z"
   ]
  },
  {
   "cell_type": "code",
   "execution_count": 5,
   "id": "358e9416",
   "metadata": {},
   "outputs": [
    {
     "name": "stdout",
     "output_type": "stream",
     "text": [
      "13.7 ms ± 993 µs per loop (mean ± std. dev. of 7 runs, 100 loops each)\n"
     ]
    }
   ],
   "source": [
    "%timeit quadratic_pure_python(x, y)"
   ]
  },
  {
   "cell_type": "markdown",
   "id": "6e91d8d4",
   "metadata": {
    "slideshow": {
     "slide_type": "slide"
    }
   },
   "source": [
    "### NumPy Solution:"
   ]
  },
  {
   "cell_type": "markdown",
   "id": "7fd81a93",
   "metadata": {},
   "source": [
    "The NumPy `linspace` function provides a nice way of making a grid of evenly-spaced points:"
   ]
  },
  {
   "cell_type": "code",
   "execution_count": 6,
   "id": "08c2a4c3",
   "metadata": {},
   "outputs": [],
   "source": [
    "x = np.linspace(-1.0, 1.0, 200)\n",
    "y = np.linspace(-1.0, 1.0, 201)"
   ]
  },
  {
   "cell_type": "markdown",
   "id": "8d47a631",
   "metadata": {},
   "source": [
    "We can evaluate $z$ over the entire $210\\times190$ point grid without a loop:"
   ]
  },
  {
   "cell_type": "code",
   "execution_count": 7,
   "id": "dc36613f",
   "metadata": {},
   "outputs": [],
   "source": [
    "def quadratic_numpy():\n",
    "    z = (\n",
    "        a * x[:, np.newaxis] ** 2 + b * y[np.newaxis, :] ** 2 +\n",
    "        c * x[:, np.newaxis] * y[np.newaxis, :]\n",
    "    )\n",
    "    return z"
   ]
  },
  {
   "cell_type": "code",
   "execution_count": 8,
   "id": "7d723956",
   "metadata": {},
   "outputs": [
    {
     "name": "stdout",
     "output_type": "stream",
     "text": [
      "137 µs ± 15.7 µs per loop (mean ± std. dev. of 7 runs, 10000 loops each)\n"
     ]
    }
   ],
   "source": [
    "%timeit quadratic_numpy()"
   ]
  },
  {
   "cell_type": "markdown",
   "id": "44e7122d",
   "metadata": {},
   "source": [
    "NumPy runs $100\\times$ faster, and has cleaner syntax! We get this speedup because NumPy provides a bridge from the slow (but flexible) world of Python to fast compiled C/C++/Fortran code."
   ]
  },
  {
   "cell_type": "markdown",
   "id": "22a00432",
   "metadata": {
    "slideshow": {
     "slide_type": "slide"
    }
   },
   "source": [
    "## Storing $N$-Dimensional Data: The `ndarray` Class\n",
    "* The `ndarray` class (usually just called \"array\" or \"numpy array\") stores arrays of $N$-dimensional data\n",
    "* A given array `x` consists of:\n",
    "    * A chunk of memory\n",
    "    * A datatype which indicates what type of value is stored in the memory (`x.dtype`)\n",
    "    * A shape which indicates how the elements are arranged in an $N$-dimensional grid (`x.shape`)"
   ]
  },
  {
   "cell_type": "markdown",
   "id": "90c6e70a",
   "metadata": {},
   "source": [
    "## Creating Arrays"
   ]
  },
  {
   "cell_type": "markdown",
   "id": "c28b43f4",
   "metadata": {},
   "source": [
    "You can create an array from an existing list:"
   ]
  },
  {
   "cell_type": "code",
   "execution_count": 9,
   "id": "7acc2a53",
   "metadata": {},
   "outputs": [
    {
     "name": "stdout",
     "output_type": "stream",
     "text": [
      "[1. 2. 3. 4.]\n"
     ]
    }
   ],
   "source": [
    "x = np.asarray([1, 2, 3, 4], dtype=float)\n",
    "print(x)"
   ]
  },
  {
   "cell_type": "markdown",
   "id": "2460e7c0",
   "metadata": {},
   "source": [
    "(Note: NumPy can try to guess `dtype` based on the input, but it is usually best to be explicit: if we didn't specify `dtype=float` here, it would have defaulted to `int`.)"
   ]
  },
  {
   "cell_type": "markdown",
   "id": "0a560717",
   "metadata": {},
   "source": [
    "You can create multidimensional arrays using nested lists:"
   ]
  },
  {
   "cell_type": "code",
   "execution_count": 10,
   "id": "ff1e1343",
   "metadata": {},
   "outputs": [
    {
     "name": "stdout",
     "output_type": "stream",
     "text": [
      "[[1. 2. 3.]\n",
      " [4. 5. 6.]]\n"
     ]
    }
   ],
   "source": [
    "x = np.asarray([[1, 2, 3], [4, 5, 6]], dtype=float)\n",
    "print(x)"
   ]
  },
  {
   "cell_type": "markdown",
   "id": "f02f9acf",
   "metadata": {},
   "source": [
    "There is a special function to get an array of zeros:"
   ]
  },
  {
   "cell_type": "code",
   "execution_count": 11,
   "id": "08b14d4e",
   "metadata": {},
   "outputs": [
    {
     "name": "stdout",
     "output_type": "stream",
     "text": [
      "[[0. 0.]\n",
      " [0. 0.]\n",
      " [0. 0.]]\n"
     ]
    }
   ],
   "source": [
    "x = np.zeros((3, 2))\n",
    "print(x)"
   ]
  },
  {
   "cell_type": "markdown",
   "id": "72e5c9c6",
   "metadata": {},
   "source": [
    "(Note that the shape is indicated as a tuple of ints.)"
   ]
  },
  {
   "cell_type": "markdown",
   "id": "214c50eb",
   "metadata": {},
   "source": [
    "An array of ones:"
   ]
  },
  {
   "cell_type": "code",
   "execution_count": 12,
   "id": "7c451c7a",
   "metadata": {},
   "outputs": [
    {
     "name": "stdout",
     "output_type": "stream",
     "text": [
      "[1. 1. 1. 1. 1.]\n"
     ]
    }
   ],
   "source": [
    "x = np.ones(5)\n",
    "print(x)"
   ]
  },
  {
   "cell_type": "markdown",
   "id": "db4fb88d",
   "metadata": {},
   "source": [
    "(Note that a 1d array can be obtained by passing a single int for the shape, rather than a tuple.)"
   ]
  },
  {
   "cell_type": "markdown",
   "id": "6ca18c99",
   "metadata": {},
   "source": [
    "If you have an existing array, you can easily create a new array with the same size and dtype:"
   ]
  },
  {
   "cell_type": "code",
   "execution_count": 13,
   "id": "834ec909",
   "metadata": {},
   "outputs": [
    {
     "name": "stdout",
     "output_type": "stream",
     "text": [
      "[[0 0]\n",
      " [0 0]\n",
      " [0 0]]\n",
      "[[1 1]\n",
      " [1 1]\n",
      " [1 1]]\n",
      "[[0 0]\n",
      " [0 0]\n",
      " [0 0]]\n"
     ]
    }
   ],
   "source": [
    "x = np.zeros((3, 2), dtype=int)\n",
    "y = np.ones_like(x)\n",
    "z = np.zeros_like(x)\n",
    "print(x)\n",
    "print(y)\n",
    "print(z)"
   ]
  },
  {
   "cell_type": "markdown",
   "id": "4581627e",
   "metadata": {},
   "source": [
    "You can also override the dtype, if necessary:"
   ]
  },
  {
   "cell_type": "code",
   "execution_count": 14,
   "id": "a130bde6",
   "metadata": {},
   "outputs": [
    {
     "name": "stdout",
     "output_type": "stream",
     "text": [
      "[[0 0]\n",
      " [0 0]\n",
      " [0 0]]\n",
      "[[1. 1.]\n",
      " [1. 1.]\n",
      " [1. 1.]]\n"
     ]
    }
   ],
   "source": [
    "x = np.zeros((3, 2), dtype=int)\n",
    "y = np.ones_like(x, dtype=float)\n",
    "print(x)\n",
    "print(y)"
   ]
  },
  {
   "cell_type": "markdown",
   "id": "7b6ccccd",
   "metadata": {},
   "source": [
    "Linearly-spaced numbers:"
   ]
  },
  {
   "cell_type": "code",
   "execution_count": 15,
   "id": "2526a138",
   "metadata": {},
   "outputs": [
    {
     "name": "stdout",
     "output_type": "stream",
     "text": [
      "[0.         0.33333333 0.66666667 1.        ]\n"
     ]
    }
   ],
   "source": [
    "x = np.linspace(0, 1, 4)\n",
    "print(x)"
   ]
  },
  {
   "cell_type": "markdown",
   "id": "accaee91",
   "metadata": {},
   "source": [
    "Logarithmically-spaced numbers:"
   ]
  },
  {
   "cell_type": "code",
   "execution_count": 16,
   "id": "985657a3",
   "metadata": {},
   "outputs": [
    {
     "name": "stdout",
     "output_type": "stream",
     "text": [
      "[ 0.1         0.31622777  1.          3.16227766 10.        ]\n"
     ]
    }
   ],
   "source": [
    "x = np.logspace(-1, 1, 5)\n",
    "print(x)"
   ]
  },
  {
   "cell_type": "markdown",
   "id": "a06dddc0",
   "metadata": {},
   "source": [
    "An identity matrix:"
   ]
  },
  {
   "cell_type": "code",
   "execution_count": 17,
   "id": "24a124ee",
   "metadata": {},
   "outputs": [
    {
     "name": "stdout",
     "output_type": "stream",
     "text": [
      "[[1. 0. 0. 0. 0.]\n",
      " [0. 1. 0. 0. 0.]\n",
      " [0. 0. 1. 0. 0.]\n",
      " [0. 0. 0. 1. 0.]\n",
      " [0. 0. 0. 0. 1.]]\n"
     ]
    }
   ],
   "source": [
    "x = np.eye(5)\n",
    "print(x)"
   ]
  },
  {
   "cell_type": "markdown",
   "id": "9e3cb5c8",
   "metadata": {},
   "source": [
    "## Getting Elements Into (and out of) Arrays\n",
    "### 1d Arrays\n",
    "You can access single elements using square brackets, just like with Python lists:"
   ]
  },
  {
   "cell_type": "code",
   "execution_count": 18,
   "id": "1abc39ee",
   "metadata": {},
   "outputs": [
    {
     "name": "stdout",
     "output_type": "stream",
     "text": [
      "[0.   0.25 0.5  0.75 1.  ]\n"
     ]
    }
   ],
   "source": [
    "x = np.linspace(0, 1, 5)\n",
    "print(x)"
   ]
  },
  {
   "cell_type": "code",
   "execution_count": 19,
   "id": "b02ca04e",
   "metadata": {},
   "outputs": [
    {
     "name": "stdout",
     "output_type": "stream",
     "text": [
      "0.0\n"
     ]
    }
   ],
   "source": [
    "print(x[0])"
   ]
  },
  {
   "cell_type": "markdown",
   "id": "8ff8c88d",
   "metadata": {},
   "source": [
    "You can use negative indices:"
   ]
  },
  {
   "cell_type": "code",
   "execution_count": 20,
   "id": "da1fa4e9",
   "metadata": {},
   "outputs": [
    {
     "name": "stdout",
     "output_type": "stream",
     "text": [
      "1.0\n"
     ]
    }
   ],
   "source": [
    "print(x[-1])"
   ]
  },
  {
   "cell_type": "markdown",
   "id": "4d885dd6",
   "metadata": {},
   "source": [
    "You can access a range of elements using slice notation:"
   ]
  },
  {
   "cell_type": "code",
   "execution_count": 21,
   "id": "79d80f0d",
   "metadata": {},
   "outputs": [
    {
     "name": "stdout",
     "output_type": "stream",
     "text": [
      "[0.25 0.5 ]\n"
     ]
    }
   ],
   "source": [
    "print(x[1:3])"
   ]
  },
  {
   "cell_type": "markdown",
   "id": "05f6daa1",
   "metadata": {},
   "source": [
    "(Note: just like with Python lists, the slice is a half-open interval: `x[1:3]` gets the elements at indices 1 through 2.)"
   ]
  },
  {
   "cell_type": "markdown",
   "id": "18612157",
   "metadata": {},
   "source": [
    "You can specify a stride for the slice:"
   ]
  },
  {
   "cell_type": "code",
   "execution_count": 22,
   "id": "a8ddffe9",
   "metadata": {},
   "outputs": [
    {
     "name": "stdout",
     "output_type": "stream",
     "text": [
      "[0.  0.5 1. ]\n"
     ]
    }
   ],
   "source": [
    "print(x[::2])"
   ]
  },
  {
   "cell_type": "markdown",
   "id": "d81cf7be",
   "metadata": {},
   "source": [
    "(Note: `x[::2]` is a shorthand for `x[0:len(x):2]`. Slices in genreal have the form `start:stop:stride`. Matlab/Octave users should note that the stride is the **last** number in a Python slice.)"
   ]
  },
  {
   "cell_type": "markdown",
   "id": "1f51f525",
   "metadata": {},
   "source": [
    "You can use an array (or list) of integers to extract specific indices:"
   ]
  },
  {
   "cell_type": "code",
   "execution_count": 23,
   "id": "98cdc392",
   "metadata": {},
   "outputs": [
    {
     "name": "stdout",
     "output_type": "stream",
     "text": [
      "[0.   0.5  0.75]\n"
     ]
    }
   ],
   "source": [
    "print(x[[0, 2, 3]])"
   ]
  },
  {
   "cell_type": "markdown",
   "id": "cc3edccc",
   "metadata": {},
   "source": [
    "(Note: the double square brackets \"`[[`\" are necessary!)"
   ]
  },
  {
   "cell_type": "markdown",
   "id": "908f5ea8",
   "metadata": {},
   "source": [
    "You can use an array (or list) of booleans with the same length as the array to extract specified elements:"
   ]
  },
  {
   "cell_type": "code",
   "execution_count": 24,
   "id": "8d4c2f8a",
   "metadata": {},
   "outputs": [
    {
     "name": "stdout",
     "output_type": "stream",
     "text": [
      "[0.   0.5  0.75]\n"
     ]
    }
   ],
   "source": [
    "print(x[[True, False, True, True, False]])"
   ]
  },
  {
   "cell_type": "markdown",
   "id": "abcd88f1",
   "metadata": {},
   "source": [
    "The use of boolean expressions for indexing is extremely powerful:"
   ]
  },
  {
   "cell_type": "code",
   "execution_count": 25,
   "id": "140a749a",
   "metadata": {},
   "outputs": [
    {
     "name": "stdout",
     "output_type": "stream",
     "text": [
      "[0.5  0.75 1.  ]\n"
     ]
    }
   ],
   "source": [
    "print(x[x >= 0.5])"
   ]
  },
  {
   "cell_type": "markdown",
   "id": "5b38567f",
   "metadata": {},
   "source": [
    "### 2d Arrays\n",
    "You can provide a comma-separated list of any of the types of indexing shown above to extract elements from an 2-dimensional array:"
   ]
  },
  {
   "cell_type": "code",
   "execution_count": 26,
   "id": "6f785b40",
   "metadata": {},
   "outputs": [
    {
     "name": "stdout",
     "output_type": "stream",
     "text": [
      "[[-2.45249503  1.39642535 -0.1116106  -0.86880824]\n",
      " [ 0.08387987 -0.44749853 -0.84368502  0.03063071]\n",
      " [ 0.58542764  1.06357497  0.69214984 -0.67683935]]\n"
     ]
    }
   ],
   "source": [
    "x = np.random.randn(3, 4)\n",
    "print(x)"
   ]
  },
  {
   "cell_type": "markdown",
   "id": "dbe4bcf7",
   "metadata": {},
   "source": [
    "The first index is the row index, the second index is the column index:"
   ]
  },
  {
   "cell_type": "code",
   "execution_count": 27,
   "id": "4fa3d4ca",
   "metadata": {},
   "outputs": [
    {
     "name": "stdout",
     "output_type": "stream",
     "text": [
      "1.3964253519782508\n"
     ]
    }
   ],
   "source": [
    "print(x[0, 1])"
   ]
  },
  {
   "cell_type": "markdown",
   "id": "d4f1c38a",
   "metadata": {},
   "source": [
    "To get all of the entries along a given axis (e.g., an entire row), use the slice operator `:` with no start, end, or stride indicated:"
   ]
  },
  {
   "cell_type": "code",
   "execution_count": 28,
   "id": "83a8a6a3",
   "metadata": {},
   "outputs": [
    {
     "name": "stdout",
     "output_type": "stream",
     "text": [
      "[-2.45249503  1.39642535 -0.1116106  -0.86880824]\n"
     ]
    }
   ],
   "source": [
    "print(x[0, :])"
   ]
  },
  {
   "cell_type": "markdown",
   "id": "058043d8",
   "metadata": {},
   "source": [
    "You can omit the trailing `:` when accessing entire rows:"
   ]
  },
  {
   "cell_type": "code",
   "execution_count": 29,
   "id": "c41a977d",
   "metadata": {},
   "outputs": [
    {
     "name": "stdout",
     "output_type": "stream",
     "text": [
      "[-2.45249503  1.39642535 -0.1116106  -0.86880824]\n"
     ]
    }
   ],
   "source": [
    "print(x[0])"
   ]
  },
  {
   "cell_type": "markdown",
   "id": "31cf2fa4",
   "metadata": {},
   "source": [
    "Indexing with boolean arrays is a little more complicated. You can use a mask which has the same shape as `x` to get a 1d array of all elements for which the mask is `True`:"
   ]
  },
  {
   "cell_type": "code",
   "execution_count": 30,
   "id": "576e0834",
   "metadata": {
    "scrolled": true
   },
   "outputs": [
    {
     "name": "stdout",
     "output_type": "stream",
     "text": [
      "[1.39642535 0.08387987 0.03063071 0.58542764 1.06357497 0.69214984]\n"
     ]
    }
   ],
   "source": [
    "print(x[x > 0])"
   ]
  },
  {
   "cell_type": "markdown",
   "id": "98f20d0a",
   "metadata": {},
   "source": [
    "Or you can provide a mask for only one dimension:"
   ]
  },
  {
   "cell_type": "code",
   "execution_count": 31,
   "id": "ca97c33f",
   "metadata": {},
   "outputs": [
    {
     "name": "stdout",
     "output_type": "stream",
     "text": [
      "[[-2.45249503  1.39642535 -0.1116106  -0.86880824]\n",
      " [ 0.58542764  1.06357497  0.69214984 -0.67683935]]\n"
     ]
    }
   ],
   "source": [
    "print(x[[True, False, True], :])"
   ]
  },
  {
   "cell_type": "markdown",
   "id": "9d75ecf8",
   "metadata": {},
   "source": [
    "### Higher-Dimensional Arrays\n",
    "Pretty much the same as 2-dimensional: provide a comma-separated list of indices, one for each dimension."
   ]
  },
  {
   "cell_type": "code",
   "execution_count": 32,
   "id": "4cd2fd68",
   "metadata": {},
   "outputs": [],
   "source": [
    "x = np.random.randn(3, 4, 5)"
   ]
  },
  {
   "cell_type": "markdown",
   "id": "6803cb0d",
   "metadata": {},
   "source": [
    "You can omit any number of trailing `:`'s:"
   ]
  },
  {
   "cell_type": "code",
   "execution_count": 33,
   "id": "ada7601d",
   "metadata": {},
   "outputs": [
    {
     "name": "stdout",
     "output_type": "stream",
     "text": [
      "[[-0.12781729  0.99219555  0.88809274  0.08918892 -0.08443868]\n",
      " [ 0.48477381 -0.866477    0.4513086  -0.31376352  0.31122344]\n",
      " [-0.10703685  1.83829395  0.56713457  0.16880293 -2.2665751 ]\n",
      " [ 0.64324272 -1.19160025  1.22910789  1.70621644 -0.18970577]]\n",
      "[[-0.12781729  0.99219555  0.88809274  0.08918892 -0.08443868]\n",
      " [ 0.48477381 -0.866477    0.4513086  -0.31376352  0.31122344]\n",
      " [-0.10703685  1.83829395  0.56713457  0.16880293 -2.2665751 ]\n",
      " [ 0.64324272 -1.19160025  1.22910789  1.70621644 -0.18970577]]\n"
     ]
    }
   ],
   "source": [
    "print(x[0, :, :])\n",
    "print(x[0])"
   ]
  },
  {
   "cell_type": "markdown",
   "id": "7c536e81",
   "metadata": {},
   "source": [
    "You can omit any number of leading `:`'s by using `...`:"
   ]
  },
  {
   "cell_type": "code",
   "execution_count": 34,
   "id": "bf771e56",
   "metadata": {},
   "outputs": [
    {
     "name": "stdout",
     "output_type": "stream",
     "text": [
      "[[-0.12781729  0.48477381 -0.10703685  0.64324272]\n",
      " [-0.69949167  0.33128595  1.70746623  0.92048578]\n",
      " [ 0.36946969 -0.36270725 -1.42711581 -0.13028131]]\n",
      "[[-0.12781729  0.48477381 -0.10703685  0.64324272]\n",
      " [-0.69949167  0.33128595  1.70746623  0.92048578]\n",
      " [ 0.36946969 -0.36270725 -1.42711581 -0.13028131]]\n"
     ]
    }
   ],
   "source": [
    "print(x[:, :, 0])\n",
    "print(x[..., 0])"
   ]
  },
  {
   "cell_type": "markdown",
   "id": "d094c754",
   "metadata": {},
   "source": [
    "### Adding New Dimensions With Indexing: `np.newaxis`\n",
    "You can add a new dimension (with length 1) to an array by including `np.newaxis` in the list of index expressions. This will be very useful once we introduce the concept of broadcasting, below."
   ]
  },
  {
   "cell_type": "code",
   "execution_count": 35,
   "id": "d79678eb",
   "metadata": {},
   "outputs": [
    {
     "name": "stdout",
     "output_type": "stream",
     "text": [
      "(4, 3)\n",
      "(4, 1, 3)\n"
     ]
    }
   ],
   "source": [
    "x = np.random.randn(4, 3)\n",
    "y = x[:, np.newaxis, :]\n",
    "print(x.shape)\n",
    "print(y.shape)"
   ]
  },
  {
   "cell_type": "markdown",
   "id": "ac614e90",
   "metadata": {},
   "source": [
    "## Array Operations\n",
    "The key to NumPy's power is the ability to do fast *vectorized* operations. \"Vectorized\" simply means that you can perform the same operation on every element of an array with a single function call -- no need to write a loop. In fact, you should avoid writing loops whenever possible, as when performing an operation on all of the elements of an array it is almost always faster (and cleaner) to do a single call to a NumPy function.\n",
    "\n",
    "### Unary Operations on Arrays\n",
    "Unary operators act element-by-element on arrays. This makes the syntax for performing calculations over a grid of inputs very clean, and is also much faster than using loops."
   ]
  },
  {
   "cell_type": "markdown",
   "id": "ce389e57",
   "metadata": {},
   "source": [
    "Let's test the speed difference using exponentiation:"
   ]
  },
  {
   "cell_type": "code",
   "execution_count": 36,
   "id": "bcaab299",
   "metadata": {},
   "outputs": [],
   "source": [
    "x = np.linspace(0, 1, 5000)"
   ]
  },
  {
   "cell_type": "code",
   "execution_count": 37,
   "id": "761558d8",
   "metadata": {},
   "outputs": [],
   "source": [
    "def square_loop(x):\n",
    "    y = np.zeros_like(x)\n",
    "    for idx, x_val in enumerate(x):\n",
    "        y[idx] = x_val ** 2\n",
    "    return y"
   ]
  },
  {
   "cell_type": "code",
   "execution_count": 38,
   "id": "e7226222",
   "metadata": {},
   "outputs": [
    {
     "name": "stdout",
     "output_type": "stream",
     "text": [
      "2.92 ms ± 428 µs per loop (mean ± std. dev. of 7 runs, 100 loops each)\n"
     ]
    }
   ],
   "source": [
    "%timeit square_loop(x)"
   ]
  },
  {
   "cell_type": "code",
   "execution_count": 39,
   "id": "07e5fdb3",
   "metadata": {},
   "outputs": [],
   "source": [
    "def square_numpy(x):\n",
    "    return x ** 2"
   ]
  },
  {
   "cell_type": "code",
   "execution_count": 40,
   "id": "055e4142",
   "metadata": {},
   "outputs": [
    {
     "name": "stdout",
     "output_type": "stream",
     "text": [
      "6.98 µs ± 1.44 µs per loop (mean ± std. dev. of 7 runs, 100000 loops each)\n"
     ]
    }
   ],
   "source": [
    "%timeit square_numpy(x)"
   ]
  },
  {
   "cell_type": "markdown",
   "id": "9ae047f0",
   "metadata": {},
   "source": [
    "Using the vectorized version is over 500x faster!"
   ]
  },
  {
   "cell_type": "markdown",
   "id": "7993b838",
   "metadata": {},
   "source": [
    "To illustrate some of the main unary operations, let's use a smaller array:"
   ]
  },
  {
   "cell_type": "code",
   "execution_count": 41,
   "id": "2d17568d",
   "metadata": {},
   "outputs": [
    {
     "name": "stdout",
     "output_type": "stream",
     "text": [
      "[0.   0.25 0.5  0.75 1.  ]\n"
     ]
    }
   ],
   "source": [
    "x = np.linspace(0, 1, 5)\n",
    "print(x)"
   ]
  },
  {
   "cell_type": "markdown",
   "id": "010cde3a",
   "metadata": {},
   "source": [
    "Addition of a scalar:"
   ]
  },
  {
   "cell_type": "code",
   "execution_count": 42,
   "id": "f5dfae0f",
   "metadata": {},
   "outputs": [
    {
     "name": "stdout",
     "output_type": "stream",
     "text": [
      "[10.   10.25 10.5  10.75 11.  ]\n"
     ]
    }
   ],
   "source": [
    "y = x + 10\n",
    "print(y)"
   ]
  },
  {
   "cell_type": "markdown",
   "id": "3c9f01a3",
   "metadata": {},
   "source": [
    "Multiplication by a scalar:"
   ]
  },
  {
   "cell_type": "code",
   "execution_count": 43,
   "id": "c4120471",
   "metadata": {},
   "outputs": [
    {
     "name": "stdout",
     "output_type": "stream",
     "text": [
      "[0.   1.25 2.5  3.75 5.  ]\n"
     ]
    }
   ],
   "source": [
    "y = 5 * x\n",
    "print(y)"
   ]
  },
  {
   "cell_type": "markdown",
   "id": "58d768a2",
   "metadata": {},
   "source": [
    "Division by a scalar:"
   ]
  },
  {
   "cell_type": "code",
   "execution_count": 44,
   "id": "637309c2",
   "metadata": {},
   "outputs": [
    {
     "name": "stdout",
     "output_type": "stream",
     "text": [
      "[0.    0.125 0.25  0.375 0.5  ]\n"
     ]
    }
   ],
   "source": [
    "y = x / 2\n",
    "print(y)"
   ]
  },
  {
   "cell_type": "markdown",
   "id": "e6221123",
   "metadata": {},
   "source": [
    "Negation:"
   ]
  },
  {
   "cell_type": "code",
   "execution_count": 45,
   "id": "f1995344",
   "metadata": {},
   "outputs": [
    {
     "name": "stdout",
     "output_type": "stream",
     "text": [
      "[-0.   -0.25 -0.5  -0.75 -1.  ]\n"
     ]
    }
   ],
   "source": [
    "y = -x\n",
    "print(y)"
   ]
  },
  {
   "cell_type": "markdown",
   "id": "4ef79a4d",
   "metadata": {},
   "source": [
    "Exponentiation:"
   ]
  },
  {
   "cell_type": "code",
   "execution_count": 46,
   "id": "915c13a1",
   "metadata": {},
   "outputs": [
    {
     "name": "stdout",
     "output_type": "stream",
     "text": [
      "[0.     0.0625 0.25   0.5625 1.    ]\n"
     ]
    }
   ],
   "source": [
    "y = x ** 2\n",
    "print(y)"
   ]
  },
  {
   "cell_type": "markdown",
   "id": "35451743",
   "metadata": {},
   "source": [
    "Square root:"
   ]
  },
  {
   "cell_type": "code",
   "execution_count": 47,
   "id": "e2b37b20",
   "metadata": {},
   "outputs": [
    {
     "name": "stdout",
     "output_type": "stream",
     "text": [
      "[0.         0.5        0.70710678 0.8660254  1.        ]\n"
     ]
    }
   ],
   "source": [
    "y = np.sqrt(x)\n",
    "print(y)"
   ]
  },
  {
   "cell_type": "markdown",
   "id": "bdec1174",
   "metadata": {},
   "source": [
    "Exponential ($y=e^x$):"
   ]
  },
  {
   "cell_type": "code",
   "execution_count": 48,
   "id": "a8c0eabf",
   "metadata": {},
   "outputs": [
    {
     "name": "stdout",
     "output_type": "stream",
     "text": [
      "[1.         1.28402542 1.64872127 2.11700002 2.71828183]\n"
     ]
    }
   ],
   "source": [
    "y = np.exp(x)\n",
    "print(y)"
   ]
  },
  {
   "cell_type": "markdown",
   "id": "016a60f3",
   "metadata": {},
   "source": [
    "(Natural) Logarithm:"
   ]
  },
  {
   "cell_type": "code",
   "execution_count": 49,
   "id": "905353ab",
   "metadata": {},
   "outputs": [
    {
     "name": "stdout",
     "output_type": "stream",
     "text": [
      "[       -inf -1.38629436 -0.69314718 -0.28768207  0.        ]\n"
     ]
    },
    {
     "name": "stderr",
     "output_type": "stream",
     "text": [
      "/var/folders/1d/t26w870175q9__c1qp_d1w4r0000gp/T/ipykernel_41345/2719270062.py:1: RuntimeWarning: divide by zero encountered in log\n",
      "  y = np.log(x)\n"
     ]
    }
   ],
   "source": [
    "y = np.log(x)\n",
    "print(y)"
   ]
  },
  {
   "cell_type": "markdown",
   "id": "15207225",
   "metadata": {},
   "source": [
    "(Note: $\\log(0)$ evaluates to the floating point value `-inf` and raises a warning.)"
   ]
  },
  {
   "cell_type": "markdown",
   "id": "def8f319",
   "metadata": {},
   "source": [
    "Trigonometric sine:"
   ]
  },
  {
   "cell_type": "code",
   "execution_count": 50,
   "id": "da88aaae",
   "metadata": {},
   "outputs": [
    {
     "name": "stdout",
     "output_type": "stream",
     "text": [
      "[0.         0.24740396 0.47942554 0.68163876 0.84147098]\n"
     ]
    }
   ],
   "source": [
    "y = np.sin(x)\n",
    "print(y)"
   ]
  },
  {
   "cell_type": "markdown",
   "id": "4bed911f",
   "metadata": {},
   "source": [
    "### Binary Operations on Equally-Sized Arrays\n",
    "Binary operations also act element-by-element. Let's illustrate that with the following arrays:"
   ]
  },
  {
   "cell_type": "code",
   "execution_count": 51,
   "id": "11c98bf6",
   "metadata": {},
   "outputs": [
    {
     "name": "stdout",
     "output_type": "stream",
     "text": [
      "[0.   0.25 0.5  0.75 1.  ]\n",
      "[1.   1.25 1.5  1.75 2.  ]\n"
     ]
    }
   ],
   "source": [
    "x = np.linspace(0, 1, 5)\n",
    "y = np.linspace(1, 2, 5)\n",
    "print(x)\n",
    "print(y)"
   ]
  },
  {
   "cell_type": "markdown",
   "id": "874b4766",
   "metadata": {},
   "source": [
    "Addition:"
   ]
  },
  {
   "cell_type": "code",
   "execution_count": 52,
   "id": "9ea8db44",
   "metadata": {},
   "outputs": [
    {
     "name": "stdout",
     "output_type": "stream",
     "text": [
      "[1.  1.5 2.  2.5 3. ]\n"
     ]
    }
   ],
   "source": [
    "z = x + y\n",
    "print(z)"
   ]
  },
  {
   "cell_type": "markdown",
   "id": "274b3910",
   "metadata": {},
   "source": [
    "Multiplication:"
   ]
  },
  {
   "cell_type": "code",
   "execution_count": 53,
   "id": "da77e0d2",
   "metadata": {},
   "outputs": [
    {
     "name": "stdout",
     "output_type": "stream",
     "text": [
      "[0.     0.3125 0.75   1.3125 2.    ]\n"
     ]
    }
   ],
   "source": [
    "z = x * y\n",
    "print(z)"
   ]
  },
  {
   "cell_type": "markdown",
   "id": "088128eb",
   "metadata": {},
   "source": [
    "Division:"
   ]
  },
  {
   "cell_type": "code",
   "execution_count": 54,
   "id": "f043e94a",
   "metadata": {},
   "outputs": [
    {
     "name": "stdout",
     "output_type": "stream",
     "text": [
      "[       inf 5.         3.         2.33333333 2.        ]\n"
     ]
    },
    {
     "name": "stderr",
     "output_type": "stream",
     "text": [
      "/var/folders/1d/t26w870175q9__c1qp_d1w4r0000gp/T/ipykernel_41345/793868733.py:1: RuntimeWarning: divide by zero encountered in true_divide\n",
      "  z = y / x\n"
     ]
    }
   ],
   "source": [
    "z = y / x\n",
    "print(z)"
   ]
  },
  {
   "cell_type": "markdown",
   "id": "eab6848f",
   "metadata": {},
   "source": [
    "(Note: division by zero returns the floating point value `inf` and raises a warning.)"
   ]
  },
  {
   "cell_type": "markdown",
   "id": "952b6392",
   "metadata": {},
   "source": [
    "Exponentiation:"
   ]
  },
  {
   "cell_type": "code",
   "execution_count": 55,
   "id": "7c0f0bbf",
   "metadata": {},
   "outputs": [
    {
     "name": "stdout",
     "output_type": "stream",
     "text": [
      "[0.         0.1767767  0.35355339 0.60444559 1.        ]\n"
     ]
    }
   ],
   "source": [
    "z = x ** y\n",
    "print(z)"
   ]
  },
  {
   "cell_type": "markdown",
   "id": "ee3fb23d",
   "metadata": {},
   "source": [
    "### Broadcasting: Binary Operations on Differently-Sized Arrays\n",
    "#### Basic Example\n",
    "Broadcasting is a powerful syntax for efficiently performing calculations on \"tensor product\" grids of inputs. It allows you to write very fast, expressive code without needing loops -- we used this in the 2d quadratric example at the beginning. Let's take a closer look. Say we want to evaluate the cross-term `z=xy` on the grid $-1\\leq x\\leq 0$, $0\\leq y\\leq 1$:"
   ]
  },
  {
   "cell_type": "code",
   "execution_count": 71,
   "id": "387d7dac",
   "metadata": {},
   "outputs": [],
   "source": [
    "x = np.linspace(-1, 0, 5)\n",
    "y = np.linspace(0, 1, 6)"
   ]
  },
  {
   "cell_type": "markdown",
   "id": "49c7eafa",
   "metadata": {},
   "source": [
    "`x` and `y` have different shapes, so trying to call `x*y` raises an error:"
   ]
  },
  {
   "cell_type": "code",
   "execution_count": 76,
   "id": "a1315d29",
   "metadata": {},
   "outputs": [
    {
     "name": "stdout",
     "output_type": "stream",
     "text": [
      "Traceback (most recent call last):\n",
      "  File \"/var/folders/1d/t26w870175q9__c1qp_d1w4r0000gp/T/ipykernel_41345/1434134433.py\", line 2, in <module>\n",
      "    z = x * y\n",
      "ValueError: operands could not be broadcast together with shapes (5,) (6,) \n",
      "\n"
     ]
    }
   ],
   "source": [
    "# We use a try-catch so that the notebook can run through:\n",
    "try:\n",
    "    z = x * y\n",
    "except ValueError as e:\n",
    "    import traceback\n",
    "    print(traceback.format_exc())"
   ]
  },
  {
   "cell_type": "markdown",
   "id": "00943c56",
   "metadata": {},
   "source": [
    "Instead, we can use `np.newaxis` to reshape `x` and `y`:"
   ]
  },
  {
   "cell_type": "code",
   "execution_count": 58,
   "id": "23d77827",
   "metadata": {},
   "outputs": [
    {
     "name": "stdout",
     "output_type": "stream",
     "text": [
      "(5, 1)\n",
      "(1, 6)\n"
     ]
    }
   ],
   "source": [
    "x_reshaped = x[:, np.newaxis]\n",
    "y_reshaped = y[np.newaxis, :]\n",
    "print(x_reshaped.shape)\n",
    "print(y_reshaped.shape)"
   ]
  },
  {
   "cell_type": "markdown",
   "id": "6a78f537",
   "metadata": {},
   "source": [
    "We can now compute the desired cross-term:"
   ]
  },
  {
   "cell_type": "code",
   "execution_count": 59,
   "id": "c1f05ceb",
   "metadata": {},
   "outputs": [
    {
     "name": "stdout",
     "output_type": "stream",
     "text": [
      "(5, 6)\n"
     ]
    }
   ],
   "source": [
    "z = x_reshaped * y_reshaped\n",
    "print(z.shape)"
   ]
  },
  {
   "cell_type": "markdown",
   "id": "378b934c",
   "metadata": {},
   "source": [
    "Essentially what happens is NumPy acts as if `x_reshaped` has shape `(5, 6)`, where every column `x_reshaped[:, i]` is the same. But, it does this in a very memory-efficient way: you only ever have to store the 5 elements of `x_reshaped`, not the 30 elements of the expanded array. Similarly, NumPy acts as if `y_reshaped` has shape `(5, 6)`, where every row `y_reshaped[i, :]` is the same.\n",
    "\n",
    "#### Full Details\n",
    "Two arrays can be broadcast together if their shapes are compatible. To determine compatibility, use the following steps:\n",
    "1. If one array has fewer dimensions than the other, add 1's at the *beginning* of the lower-dimensional array's shape\n",
    "2. For each element of the shapes, either:\n",
    "    * The two arrays must have the same number of elements along that dimension, or\n",
    "    * One (or both) of the arrays must have 1 element along that dimension\n",
    "\n",
    "Example:"
   ]
  },
  {
   "cell_type": "code",
   "execution_count": 60,
   "id": "fb474e74",
   "metadata": {},
   "outputs": [
    {
     "name": "stdout",
     "output_type": "stream",
     "text": [
      "   (2, 1, 3)\n",
      "(5, 1, 4, 3)\n",
      "(5, 2, 4, 3)\n"
     ]
    }
   ],
   "source": [
    "x = np.zeros((2, 1, 3))\n",
    "y = np.zeros((5, 1, 4, 3))\n",
    "z = x + y\n",
    "print('  ', x.shape)\n",
    "print(y.shape)\n",
    "print(z.shape)"
   ]
  },
  {
   "cell_type": "markdown",
   "id": "33b9fd65",
   "metadata": {},
   "source": [
    "### Aggregation Operations on Arrays\n",
    "The unary and binary operations we've looked at so far leave the array shapes unchanged (or expanded according to the broadcasting rules). There are also operations to compute aggregated quantities, which cause one or more dimensions to be dropped."
   ]
  },
  {
   "cell_type": "code",
   "execution_count": 61,
   "id": "17531c01",
   "metadata": {},
   "outputs": [],
   "source": [
    "x = np.linspace(0, 1, 10)"
   ]
  },
  {
   "cell_type": "markdown",
   "id": "db18c3d5",
   "metadata": {},
   "source": [
    "Many of these are available as methods of the array class itself, including:\n",
    "\n",
    "Sum of elements:"
   ]
  },
  {
   "cell_type": "code",
   "execution_count": 62,
   "id": "a792bb3f",
   "metadata": {},
   "outputs": [
    {
     "name": "stdout",
     "output_type": "stream",
     "text": [
      "5.0\n"
     ]
    }
   ],
   "source": [
    "print(x.sum())"
   ]
  },
  {
   "cell_type": "markdown",
   "id": "a425186e",
   "metadata": {},
   "source": [
    "Minimum value:"
   ]
  },
  {
   "cell_type": "code",
   "execution_count": 63,
   "id": "3e5e7fdb",
   "metadata": {},
   "outputs": [
    {
     "name": "stdout",
     "output_type": "stream",
     "text": [
      "0.0\n"
     ]
    }
   ],
   "source": [
    "print(x.min())"
   ]
  },
  {
   "cell_type": "markdown",
   "id": "de013d19",
   "metadata": {},
   "source": [
    "Maximum value:"
   ]
  },
  {
   "cell_type": "code",
   "execution_count": 64,
   "id": "140d751f",
   "metadata": {},
   "outputs": [
    {
     "name": "stdout",
     "output_type": "stream",
     "text": [
      "1.0\n"
     ]
    }
   ],
   "source": [
    "print(x.max())"
   ]
  },
  {
   "cell_type": "markdown",
   "id": "d66774ee",
   "metadata": {},
   "source": [
    "Mean value:"
   ]
  },
  {
   "cell_type": "code",
   "execution_count": 65,
   "id": "45a9831e",
   "metadata": {},
   "outputs": [
    {
     "name": "stdout",
     "output_type": "stream",
     "text": [
      "0.5\n"
     ]
    }
   ],
   "source": [
    "print(x.mean())"
   ]
  },
  {
   "cell_type": "markdown",
   "id": "b2d15746",
   "metadata": {},
   "source": [
    "Standard deviation:"
   ]
  },
  {
   "cell_type": "code",
   "execution_count": 66,
   "id": "e2d6bebe",
   "metadata": {},
   "outputs": [
    {
     "name": "stdout",
     "output_type": "stream",
     "text": [
      "0.31914236925211265\n"
     ]
    }
   ],
   "source": [
    "print(x.std())"
   ]
  },
  {
   "cell_type": "markdown",
   "id": "89cb5b2d",
   "metadata": {},
   "source": [
    "On multi-dimensional arrays, the default is to compute these operations across all elements in the array, so the result is a scalar:"
   ]
  },
  {
   "cell_type": "code",
   "execution_count": 67,
   "id": "917a04d9",
   "metadata": {},
   "outputs": [
    {
     "name": "stdout",
     "output_type": "stream",
     "text": [
      "360.0\n"
     ]
    }
   ],
   "source": [
    "x = np.ones((3, 4, 5, 6))\n",
    "print(x.sum())"
   ]
  },
  {
   "cell_type": "markdown",
   "id": "1df04719",
   "metadata": {},
   "source": [
    "You can also specify an axis to apply the operation along:"
   ]
  },
  {
   "cell_type": "code",
   "execution_count": 68,
   "id": "52b00043",
   "metadata": {},
   "outputs": [
    {
     "name": "stdout",
     "output_type": "stream",
     "text": [
      "(3, 4, 5, 6)\n",
      "(3, 4, 5)\n"
     ]
    }
   ],
   "source": [
    "s = x.sum(axis=3)\n",
    "print(x.shape)\n",
    "print(s.shape)"
   ]
  },
  {
   "cell_type": "markdown",
   "id": "e607d7d8",
   "metadata": {},
   "source": [
    "Note that the output has one fewer dimension. Mathematically, what we now have is $s_{abc} = \\sum_d x_{abcd}$."
   ]
  },
  {
   "cell_type": "markdown",
   "id": "71472d97",
   "metadata": {},
   "source": [
    "We can also provide multiple dimensions to sum over:"
   ]
  },
  {
   "cell_type": "code",
   "execution_count": 69,
   "id": "d9a3d70d",
   "metadata": {},
   "outputs": [
    {
     "name": "stdout",
     "output_type": "stream",
     "text": [
      "(3, 4, 5, 6)\n",
      "(3, 5)\n"
     ]
    }
   ],
   "source": [
    "s = x.sum(axis=(1, 3))\n",
    "print(x.shape)\n",
    "print(s.shape)"
   ]
  },
  {
   "cell_type": "markdown",
   "id": "b70d2e3c",
   "metadata": {},
   "source": [
    "What we have in this case is $s_{ac}=\\sum_b\\sum_d x_{abcd}$"
   ]
  },
  {
   "cell_type": "markdown",
   "id": "3263468f",
   "metadata": {},
   "source": [
    "## Doing Stuff With Arrays: The Scientific Python Ecosystem\n",
    "Many packages use NumPy to move data around and accomplish various tasks. The ones I use the most are:\n",
    "* NumPy (https://numpy.org/) itself provides subpackages for:\n",
    "    * Linear algebra (`numpy.linalg`)\n",
    "    * Taking discrete Fourier transforms (`numpy.fft`), and\n",
    "    * Generating random numbers (`numpy.random`)\n",
    "* SciPy (https://scipy.org/) was developed jointly with NumPy, and provides higher-level routines for:\n",
    "    * Special functions (`scipy.special`)\n",
    "    * Numeric integration (`scipy.integrate`)\n",
    "    * Optimization (`scipy.optimize`)\n",
    "    * Interpolation (`scipy.interpolate`)\n",
    "    * More powerful Fourier transform capabilities (`scipy.fft`)\n",
    "    * Signal processing (`scipy.signal`)\n",
    "    * More powerful linear algebra capabilities (`scipy.linalg`)\n",
    "    * Manipulating spatial data (`scipy.spatial`)\n",
    "    * Statistics (`scipy.stats`)\n",
    "    * Multidimensional image processing (`scipy.ndimage`)\n",
    "    * Reading various file formats (`scipy.io`)\n",
    "* Matplotlib (https://matplotlib.org/) provides a variety of plotting routines\n",
    "* scikit-learn (https://scikit-learn.org/stable/) provides a **huge** range of machine learning algorithms and supporting tools"
   ]
  },
  {
   "cell_type": "code",
   "execution_count": null,
   "id": "dd34af33",
   "metadata": {},
   "outputs": [],
   "source": []
  }
 ],
 "metadata": {
  "kernelspec": {
   "display_name": "Python 3 (ipykernel)",
   "language": "python",
   "name": "python3"
  },
  "language_info": {
   "codemirror_mode": {
    "name": "ipython",
    "version": 3
   },
   "file_extension": ".py",
   "mimetype": "text/x-python",
   "name": "python",
   "nbconvert_exporter": "python",
   "pygments_lexer": "ipython3",
   "version": "3.10.1"
  }
 },
 "nbformat": 4,
 "nbformat_minor": 5
}
